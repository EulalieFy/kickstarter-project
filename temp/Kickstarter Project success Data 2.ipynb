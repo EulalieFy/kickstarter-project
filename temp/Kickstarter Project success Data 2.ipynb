{
 "cells": [
  {
   "cell_type": "code",
   "execution_count": 112,
   "metadata": {},
   "outputs": [
    {
     "data": {
      "text/html": [
       "<div id=\"my_id_menu_nb\">run previous cell, wait for 2 seconds</div>\n",
       "<script>\n",
       "function repeat_indent_string(n){\n",
       "    var a = \"\" ;\n",
       "    for ( ; n > 0 ; --n)\n",
       "        a += \"    \";\n",
       "    return a;\n",
       "}\n",
       "// look up into all sections and builds an automated menu //\n",
       "var update_menu_string = function(begin, lfirst, llast, sformat, send, keep_item, begin_format, end_format) {\n",
       "    var anchors = document.getElementsByClassName(\"section\");\n",
       "    if (anchors.length == 0) {\n",
       "        anchors = document.getElementsByClassName(\"text_cell_render rendered_html\");\n",
       "    }\n",
       "    var i,t;\n",
       "    var text_menu = begin;\n",
       "    var text_memo = \"<pre>\\nlength:\" + anchors.length + \"\\n\";\n",
       "    var ind = \"\";\n",
       "    var memo_level = 1;\n",
       "    var href;\n",
       "    var tags = [];\n",
       "    var main_item = 0;\n",
       "    var format_open = 0;\n",
       "    for (i = 0; i <= llast; i++)\n",
       "        tags.push(\"h\" + i);\n",
       "\n",
       "    for (i = 0; i < anchors.length; i++) {\n",
       "        text_memo += \"**\" + anchors[i].id + \"--\\n\";\n",
       "\n",
       "        var child = null;\n",
       "        for(t = 0; t < tags.length; t++) {\n",
       "            var r = anchors[i].getElementsByTagName(tags[t]);\n",
       "            if (r.length > 0) {\n",
       "child = r[0];\n",
       "break;\n",
       "            }\n",
       "        }\n",
       "        if (child == null) {\n",
       "            text_memo += \"null\\n\";\n",
       "            continue;\n",
       "        }\n",
       "        if (anchors[i].hasAttribute(\"id\")) {\n",
       "            // when converted in RST\n",
       "            href = anchors[i].id;\n",
       "            text_memo += \"#1-\" + href;\n",
       "            // passer à child suivant (le chercher)\n",
       "        }\n",
       "        else if (child.hasAttribute(\"id\")) {\n",
       "            // in a notebook\n",
       "            href = child.id;\n",
       "            text_memo += \"#2-\" + href;\n",
       "        }\n",
       "        else {\n",
       "            text_memo += \"#3-\" + \"*\" + \"\\n\";\n",
       "            continue;\n",
       "        }\n",
       "        var title = child.textContent;\n",
       "        var level = parseInt(child.tagName.substring(1,2));\n",
       "\n",
       "        text_memo += \"--\" + level + \"?\" + lfirst + \"--\" + title + \"\\n\";\n",
       "\n",
       "        if ((level < lfirst) || (level > llast)) {\n",
       "            continue ;\n",
       "        }\n",
       "        if (title.endsWith('¶')) {\n",
       "            title = title.substring(0,title.length-1).replace(\"<\", \"&lt;\")\n",
       "         .replace(\">\", \"&gt;\").replace(\"&\", \"&amp;\");\n",
       "        }\n",
       "        if (title.length == 0) {\n",
       "            continue;\n",
       "        }\n",
       "\n",
       "        while (level < memo_level) {\n",
       "            text_menu += end_format + \"</ul>\\n\";\n",
       "            format_open -= 1;\n",
       "            memo_level -= 1;\n",
       "        }\n",
       "        if (level == lfirst) {\n",
       "            main_item += 1;\n",
       "        }\n",
       "        if (keep_item != -1 && main_item != keep_item + 1) {\n",
       "            // alert(main_item + \" - \" + level + \" - \" + keep_item);\n",
       "            continue;\n",
       "        }\n",
       "        while (level > memo_level) {\n",
       "            text_menu += \"<ul>\\n\";\n",
       "            memo_level += 1;\n",
       "        }\n",
       "        text_menu += repeat_indent_string(level-2);\n",
       "        text_menu += begin_format + sformat.replace(\"__HREF__\", href).replace(\"__TITLE__\", title);\n",
       "        format_open += 1;\n",
       "    }\n",
       "    while (1 < memo_level) {\n",
       "        text_menu += end_format + \"</ul>\\n\";\n",
       "        memo_level -= 1;\n",
       "        format_open -= 1;\n",
       "    }\n",
       "    text_menu += send;\n",
       "    //text_menu += \"\\n\" + text_memo;\n",
       "\n",
       "    while (format_open > 0) {\n",
       "        text_menu += end_format;\n",
       "        format_open -= 1;\n",
       "    }\n",
       "    return text_menu;\n",
       "};\n",
       "var update_menu = function() {\n",
       "    var sbegin = \"\";\n",
       "    var sformat = '<a href=\"#__HREF__\">__TITLE__</a>';\n",
       "    var send = \"\";\n",
       "    var begin_format = '<li>';\n",
       "    var end_format = '</li>';\n",
       "    var keep_item = -1;\n",
       "    var text_menu = update_menu_string(sbegin, 1, 4, sformat, send, keep_item,\n",
       "       begin_format, end_format);\n",
       "    var menu = document.getElementById(\"my_id_menu_nb\");\n",
       "    menu.innerHTML=text_menu;\n",
       "};\n",
       "window.setTimeout(update_menu,2000);\n",
       "            </script>"
      ],
      "text/plain": [
       "<IPython.core.display.HTML object>"
      ]
     },
     "execution_count": 112,
     "metadata": {},
     "output_type": "execute_result"
    }
   ],
   "source": [
    "import pandas as pd\n",
    "import numpy as np\n",
    "import re\n",
    "from gensim.models import Word2Vec\n",
    "\n",
    "from gensim.models import Doc2Vec\n",
    "from scipy.spatial import distance\n",
    "from nltk.corpus import stopwords\n",
    "from gensim.models.doc2vec import LabeledSentence\n",
    "\n",
    "import itertools\n",
    "import xgboost as xgb\n",
    "import string\n",
    "from sklearn.model_selection import train_test_split\n",
    "from sklearn.metrics import log_loss, roc_auc_score, f1_score, precision_score, recall_score, confusion_matrix\n",
    "from sklearn.preprocessing import OneHotEncoder\n",
    "\n",
    "from sklearn.decomposition import PCA\n",
    "from sklearn.manifold import TSNE\n",
    "\n",
    "from scipy.spatial import distance\n",
    "import warnings\n",
    "warnings.filterwarnings('ignore')\n",
    "%matplotlib inline\n",
    "from sklearn.metrics import accuracy_score\n",
    "\n",
    "from jyquickhelper import add_notebook_menu\n",
    "add_notebook_menu(first_level=1)"
   ]
  },
  {
   "cell_type": "markdown",
   "metadata": {},
   "source": [
    "# Load and clean data"
   ]
  },
  {
   "cell_type": "code",
   "execution_count": 2,
   "metadata": {},
   "outputs": [],
   "source": [
    "data = pd.read_csv(\"/Users/eulalieformery/Desktop/Datacamp/Kickstarter_light.csv\")\n",
    "data = data.dropna(subset=['name','short_description'])"
   ]
  },
  {
   "cell_type": "code",
   "execution_count": 3,
   "metadata": {},
   "outputs": [],
   "source": [
    "#create binary label = 1 -> has reached the goal 0 -> did not reach it\n",
    "data['Target'] = np.where( data['pledged']>=data['goal'], 1, 0)\n"
   ]
  },
  {
   "cell_type": "code",
   "execution_count": 4,
   "metadata": {},
   "outputs": [],
   "source": [
    "data.index = np.arange(0, len(data))"
   ]
  },
  {
   "cell_type": "code",
   "execution_count": 5,
   "metadata": {},
   "outputs": [
    {
     "data": {
      "text/plain": [
       "Index(['Unnamed: 0', 'id', 'name', 'short_description', 'country', 'city',\n",
       "       'state_location', 'main_category', 'category', 'created_at',\n",
       "       'launched_at', 'state_changed_at', 'deadline', 'currency', 'country.1',\n",
       "       'creator_name', 'creator_id', 'project_we_love', 'image_available',\n",
       "       'description_available', 'goal', 'pledged', 'achieved (%)',\n",
       "       'usd_pledged', 'static_usd_rate', 'usd_type', 'state', 'Target'],\n",
       "      dtype='object')"
      ]
     },
     "execution_count": 5,
     "metadata": {},
     "output_type": "execute_result"
    }
   ],
   "source": [
    "data.columns"
   ]
  },
  {
   "cell_type": "code",
   "execution_count": 54,
   "metadata": {},
   "outputs": [],
   "source": [
    "mask1 = ( data['achieved (%)']< 120)&( data['achieved (%)']>=100)\n",
    "mask2 = ( data['achieved (%)']< 100)\n",
    "mask3 = ( data['achieved (%)']>= 120)\n",
    "\n",
    "data['success'] = data['achieved (%)'].mask(mask3, 2)\n",
    "data['success'] = data['achieved (%)'].mask(mask2, 1)\n",
    "data['success'] = data['achieved (%)'].mask(mask2, 0)"
   ]
  },
  {
   "cell_type": "code",
   "execution_count": 58,
   "metadata": {},
   "outputs": [],
   "source": [
    "data['success'] = np.where((data['achieved (%)'] < 120)&( data['achieved (%)']>=100), 1, np.where(data['achieved (%)']>= 120, 2, 0))"
   ]
  },
  {
   "cell_type": "code",
   "execution_count": 37,
   "metadata": {},
   "outputs": [
    {
     "data": {
      "image/png": "[encoded data removed]",
      "text/plain": [
       "<matplotlib.figure.Figure at 0x123651a20>"
      ]
     },
     "metadata": {
      "needs_background": "light"
     },
     "output_type": "display_data"
    }
   ],
   "source": [
    "plt.xlim((0,300))\n",
    "plt.hist(data['achieved (%)'], bins=1000, range=(0,10000))\n",
    "plt.show()"
   ]
  },
  {
   "cell_type": "markdown",
   "metadata": {},
   "source": [
    "# Create features"
   ]
  },
  {
   "cell_type": "markdown",
   "metadata": {},
   "source": [
    "From Date"
   ]
  },
  {
   "cell_type": "code",
   "execution_count": 82,
   "metadata": {},
   "outputs": [],
   "source": [
    "data['launched_date'] = pd.to_datetime(data['created_at'], format='%Y-%m-%d %H:%M:%S')\n",
    "data['deadline_date'] = pd.to_datetime(data['deadline'], format='%Y-%m-%d %H:%M:%S')"
   ]
  },
  {
   "cell_type": "code",
   "execution_count": 83,
   "metadata": {},
   "outputs": [],
   "source": [
    "#length of project\n",
    "data['length'] = data['deadline_date'] - data['launched_date']\n",
    "data['length'] = [d.days for d in data['length']]"
   ]
  },
  {
   "cell_type": "code",
   "execution_count": 84,
   "metadata": {},
   "outputs": [],
   "source": [
    "#features with month and year of launch\n",
    "data['year'] = [d.year for d in data['launched_date']]\n",
    "data['month'] = [d.month for d in data['launched_date']]\n",
    "data['day'] = [d.day for d in data['launched_date']]"
   ]
  },
  {
   "cell_type": "markdown",
   "metadata": {},
   "source": [
    " From name"
   ]
  },
  {
   "cell_type": "code",
   "execution_count": 85,
   "metadata": {},
   "outputs": [],
   "source": [
    "#length of name\n",
    "data['name_length'] = [len(name) for name in data['name']]\n",
    "\n",
    "#number of words\n",
    "data['word_number'] = [len(name.split(' ')) for name in data['name']]\n",
    "    \n",
    "#ponctuation\n",
    "data['question'] = (data.name.str[-1] == '?').astype(int)\n",
    "data['exclamation'] = (data.name.str[-1] == '!').astype(int)\n",
    "\n",
    "#upper\n",
    "data['uppercase'] = data.name.str.isupper().astype(float)"
   ]
  },
  {
   "cell_type": "code",
   "execution_count": 70,
   "metadata": {},
   "outputs": [
    {
     "data": {
      "text/plain": [
       "Index(['Unnamed: 0', 'id', 'name', 'short_description', 'country', 'city',\n",
       "       'state_location', 'main_category', 'category', 'created_at',\n",
       "       'launched_at', 'state_changed_at', 'deadline', 'currency', 'country.1',\n",
       "       'creator_name', 'creator_id', 'project_we_love', 'image_available',\n",
       "       'description_available', 'goal', 'pledged', 'achieved (%)',\n",
       "       'usd_pledged', 'static_usd_rate', 'usd_type', 'state'],\n",
       "      dtype='object')"
      ]
     },
     "execution_count": 70,
     "metadata": {},
     "output_type": "execute_result"
    }
   ],
   "source": [
    "data.columns"
   ]
  },
  {
   "cell_type": "code",
   "execution_count": 86,
   "metadata": {},
   "outputs": [],
   "source": [
    "#create dummies for categorical features\n",
    "main_category = pd.get_dummies(data['main_category'],prefix='mc')\n",
    "category = pd.get_dummies(data['category'], prefix = 'cat')\n",
    "country = pd.get_dummies(data['country'], prefix = 'country')\n",
    "#country = pd.get_dummies(data['city'], prefix = 'city')\n",
    "\n",
    "currency = pd.get_dummies(data['currency'], prefix = 'currency')\n",
    "\n",
    "\n",
    "data_modified = pd.concat([data, main_category, category, country, currency], axis=1)"
   ]
  },
  {
   "cell_type": "markdown",
   "metadata": {},
   "source": [
    "Features to drop before classification:\n",
    "\n",
    "    \n",
    "    'Unnamed: 0', 'id', 'name', 'short_description', 'country', 'city',\n",
    "       'state_location', 'main_category', 'category', 'created_at',\n",
    "       'launched_at', 'state_changed_at', 'deadline', 'currency', 'country.1',\n",
    "       'creator_name', 'creator_id', 'project_we_love', 'goal', 'pledged', 'achieved (%)',\n",
    "       'usd_pledged', 'static_usd_rate', 'usd_type', 'state'"
   ]
  },
  {
   "cell_type": "code",
   "execution_count": 95,
   "metadata": {},
   "outputs": [],
   "source": [
    "data.description_available = data.description_available.astype(int)\n",
    "data.image_available = data.image_available.astype(int)"
   ]
  },
  {
   "cell_type": "markdown",
   "metadata": {},
   "source": [
    "# Word2vec embeddings on names and decriptions"
   ]
  },
  {
   "cell_type": "code",
   "execution_count": 64,
   "metadata": {},
   "outputs": [],
   "source": [
    "names = data['name']"
   ]
  },
  {
   "cell_type": "code",
   "execution_count": 66,
   "metadata": {},
   "outputs": [],
   "source": [
    "# remove dashes and apostrophes from punctuation marks \n",
    "punct = string.punctuation.replace('-', '').replace(\"'\",'')\n",
    "# regex to match intra-word dashes and intra-word apostrophes\n",
    "my_regex = re.compile(r\"(\\b[-']\\b)|[\\W_]\")\n",
    "\n",
    "def clean_string(string, punct=punct, my_regex=my_regex, to_lower=False):\n",
    "    if to_lower:\n",
    "        string = string.lower()\n",
    "    # remove formatting\n",
    "    str = re.sub('\\s+', ' ', string)\n",
    "     # remove punctuation\n",
    "    str = ''.join(l for l in str if l not in punct)\n",
    "    # remove dashes that are not intra-word\n",
    "    str = my_regex.sub(lambda x: (x.group(1) if x.group(1) else ' '), str)\n",
    "    # strip extra white space\n",
    "    str = re.sub(' +',' ',str)\n",
    "    # strip leading and trailing white space\n",
    "    str = str.strip()\n",
    "    return str"
   ]
  },
  {
   "cell_type": "code",
   "execution_count": 73,
   "metadata": {},
   "outputs": [],
   "source": [
    "cleaned_names = []\n",
    "for idx, doc in enumerate(names):\n",
    "    # clean\n",
    "    doc = clean_string(doc, punct, my_regex, to_lower=True)\n",
    "    # tokenize (split based on whitespace)\n",
    "    tokens = doc.split(' ')\n",
    "\n",
    "    # remove digits\n",
    "    tokens = [''.join([elt for elt in token if not elt.isdigit()]) for token in tokens]\n",
    "    # remove tokens shorter than 3 characters in size\n",
    "    tokens = [token for token in tokens if len(token)>2]\n",
    "    # remove tokens exceeding 25 characters in size\n",
    "    tokens = [token for token in tokens if len(token)<=25]\n",
    "    cleaned_names.append(tokens)\n",
    "    "
   ]
  },
  {
   "cell_type": "code",
   "execution_count": 68,
   "metadata": {},
   "outputs": [],
   "source": [
    "description = data['short_description']"
   ]
  },
  {
   "cell_type": "code",
   "execution_count": 69,
   "metadata": {},
   "outputs": [],
   "source": [
    "cleaned_description = []\n",
    "for idx, doc in enumerate(description):\n",
    "    # clean\n",
    "    doc = clean_string(doc, punct, my_regex, to_lower=True)\n",
    "    # tokenize (split based on whitespace)\n",
    "    tokens = doc.split(' ')\n",
    "\n",
    "    # remove digits\n",
    "    tokens = [''.join([elt for elt in token if not elt.isdigit()]) for token in tokens]\n",
    "    # remove tokens shorter than 3 characters in size\n",
    "    tokens = [token for token in tokens if len(token)>3]\n",
    "    # remove tokens exceeding 25 characters in size\n",
    "    tokens = [token for token in tokens if len(token)<=25]\n",
    "    cleaned_description.append(tokens)\n",
    "    "
   ]
  },
  {
   "cell_type": "code",
   "execution_count": 70,
   "metadata": {},
   "outputs": [],
   "source": [
    "cleaned_total = cleaned_names.copy()\n",
    "\n",
    "for a in cleaned_description:\n",
    "    cleaned_total.append(a)"
   ]
  },
  {
   "cell_type": "markdown",
   "metadata": {},
   "source": [
    "**Train Word2vec Model**"
   ]
  },
  {
   "cell_type": "code",
   "execution_count": 71,
   "metadata": {},
   "outputs": [
    {
     "name": "stdout",
     "output_type": "stream",
     "text": [
      "CPU times: user 1min 9s, sys: 902 ms, total: 1min 10s\n",
      "Wall time: 32.1 s\n"
     ]
    }
   ],
   "source": [
    "%%time \n",
    "\n",
    "model = Word2Vec(cleaned_total, min_count=1, size=100, workers=8)"
   ]
  },
  {
   "cell_type": "code",
   "execution_count": 72,
   "metadata": {},
   "outputs": [
    {
     "name": "stdout",
     "output_type": "stream",
     "text": [
      "Vocab size: 173735\n"
     ]
    }
   ],
   "source": [
    "print('Vocab size: %d' %len(model.wv.vocab))"
   ]
  },
  {
   "cell_type": "code",
   "execution_count": 75,
   "metadata": {},
   "outputs": [],
   "source": [
    "name_matrix = np.zeros((len(cleaned_names),100),dtype=\"float32\")\n",
    "\n",
    "for i in range(len(cleaned_names)):\n",
    "    try:\n",
    "        name_matrix[i,]=model.wv[cleaned_names[i]].sum(0)/len(cleaned_names[i]) \n",
    "    except:\n",
    "        #print(cleaned_project_names[i])\n",
    "        name_matrix[i,]=np.zeros((1,100),dtype=\"float32\")\n",
    "        #print(name_matrix[i,])\n",
    "               \n"
   ]
  },
  {
   "cell_type": "code",
   "execution_count": 76,
   "metadata": {},
   "outputs": [],
   "source": [
    "description_matrix = np.zeros((len(cleaned_description),100),dtype=\"float32\")\n",
    "\n",
    "for i in range(len(cleaned_description)):\n",
    "    try:\n",
    "        description_matrix[i,]=model.wv[cleaned_description[i]].sum(0)/len(cleaned_description[i]) \n",
    "    except:\n",
    "        #print(cleaned_project_names[i])\n",
    "        description_matrix[i,]=np.zeros((1,100),dtype=\"float32\")\n",
    "        #print(name_matrix[i,])\n"
   ]
  },
  {
   "cell_type": "code",
   "execution_count": 91,
   "metadata": {},
   "outputs": [],
   "source": [
    "name_embeddings = pd.DataFrame(name_matrix)\n",
    "name_embeddings = name_embeddings.add_prefix('name_')\n",
    "description_embeddings = pd.DataFrame(description_matrix)\n",
    "description_embeddings = description_embeddings.add_prefix('desc_')"
   ]
  },
  {
   "cell_type": "markdown",
   "metadata": {},
   "source": [
    "# Binary classification"
   ]
  },
  {
   "cell_type": "code",
   "execution_count": 99,
   "metadata": {},
   "outputs": [],
   "source": [
    "y = data['Target']\n",
    "X = data[data.columns.difference(['Unnamed: 0', 'id', 'name', 'short_description', 'country', 'city',\n",
    "       'state_location', 'main_category', 'category', 'created_at',\n",
    "       'launched_at', 'state_changed_at', 'deadline', 'currency', 'country.1',\n",
    "       'creator_name', 'creator_id', 'project_we_love', 'goal', 'pledged', 'achieved (%)',\n",
    "       'usd_pledged','launched_date','deadline_date', 'static_usd_rate', 'usd_type', 'success','state','Target'])]\n",
    "\n",
    "X = pd.concat([X, name_embeddings], axis = 1)\n",
    "X = pd.concat([X, description_embeddings], axis = 1)\n"
   ]
  },
  {
   "cell_type": "code",
   "execution_count": 100,
   "metadata": {},
   "outputs": [],
   "source": [
    "X_train, X_test, y_train, y_test = train_test_split(X, y, test_size=0.33, random_state=42)\n"
   ]
  },
  {
   "cell_type": "markdown",
   "metadata": {},
   "source": [
    "## XGBoost"
   ]
  },
  {
   "cell_type": "code",
   "execution_count": 101,
   "metadata": {},
   "outputs": [],
   "source": [
    "xgboost_model = xgb.XGBRegressor(booster = 'gbtree',objective = 'binary:logistic', colsample_bytree = 0.9, learning_rate = 0.1,\n",
    "                max_depth = 5, alpha =10, n_estimators = 50 , eval_metric = 'auc')"
   ]
  },
  {
   "cell_type": "code",
   "execution_count": 102,
   "metadata": {},
   "outputs": [
    {
     "data": {
      "text/plain": [
       "XGBRegressor(alpha=10, base_score=0.5, booster='gbtree', colsample_bylevel=1,\n",
       "       colsample_bytree=0.9, eval_metric='auc', gamma=0, learning_rate=0.1,\n",
       "       max_delta_step=0, max_depth=5, min_child_weight=1, missing=None,\n",
       "       n_estimators=50, n_jobs=1, nthread=None,\n",
       "       objective='binary:logistic', random_state=0, reg_alpha=0,\n",
       "       reg_lambda=1, scale_pos_weight=1, seed=None, silent=True,\n",
       "       subsample=1)"
      ]
     },
     "execution_count": 102,
     "metadata": {},
     "output_type": "execute_result"
    }
   ],
   "source": [
    "xgboost_model.fit(X_train, y_train)"
   ]
  },
  {
   "cell_type": "markdown",
   "metadata": {},
   "source": [
    "Results with word2vec on names and description"
   ]
  },
  {
   "cell_type": "code",
   "execution_count": 104,
   "metadata": {},
   "outputs": [
    {
     "name": "stdout",
     "output_type": "stream",
     "text": [
      "accuracy 0.6682752771197099\n",
      "log_loss 0.6100587349177791\n",
      "roc 0.7163271399187193\n",
      "f1 Score 0.7351979828165857\n",
      "precision 0.6721881870770807\n",
      "recall 0.8112424968441662\n",
      "[[14208 15357]\n",
      " [ 7327 31490]]\n"
     ]
    }
   ],
   "source": [
    "y_pred = xgboost_model.predict(X_test)\n",
    "\n",
    "print('accuracy', accuracy_score(y_test, [1 if a>0.5 else 0 for a in y_pred]))\n",
    "print('log_loss',log_loss(y_test, y_pred))\n",
    "print('roc',roc_auc_score(y_test, y_pred))\n",
    "print('f1 Score',f1_score(y_test, [1 if a>0.5 else 0 for a in y_pred]))\n",
    "print('precision', precision_score(y_test, [1 if a>0.5 else 0 for a in y_pred]))\n",
    "print('recall', recall_score(y_test,[1 if a>0.5 else 0 for a in y_pred]))\n",
    "print(confusion_matrix(y_test, [1 if a>0.5 else 0 for a in y_pred]))"
   ]
  },
  {
   "cell_type": "markdown",
   "metadata": {},
   "source": [
    "Results with word2vec on description"
   ]
  },
  {
   "cell_type": "code",
   "execution_count": 122,
   "metadata": {},
   "outputs": [
    {
     "name": "stdout",
     "output_type": "stream",
     "text": [
      "accuracy 0.6925652949606622\n",
      "log_loss 0.5847909801446575\n",
      "roc 0.7515372110726051\n",
      "f1 Score 0.7334711005743119\n",
      "precision 0.72209186220669\n",
      "recall 0.7452147255068655\n",
      "[[18432 11133]\n",
      " [ 9890 28927]]\n"
     ]
    }
   ],
   "source": [
    "y_pred = xgboost_model.predict(X_test)\n",
    "\n",
    "print('accuracy', accuracy_score(y_test, [1 if a>0.5 else 0 for a in y_pred]))\n",
    "print('log_loss',log_loss(y_test, y_pred))\n",
    "print('roc',roc_auc_score(y_test, y_pred))\n",
    "print('f1 Score',f1_score(y_test, [1 if a>0.5 else 0 for a in y_pred]))\n",
    "print('precision', precision_score(y_test, [1 if a>0.5 else 0 for a in y_pred]))\n",
    "print('recall', recall_score(y_test,[1 if a>0.5 else 0 for a in y_pred]))\n",
    "print(confusion_matrix(y_test, [1 if a>0.5 else 0 for a in y_pred]))"
   ]
  },
  {
   "cell_type": "markdown",
   "metadata": {},
   "source": [
    "**Results with generated word2vec embeddings**"
   ]
  },
  {
   "cell_type": "code",
   "execution_count": 366,
   "metadata": {},
   "outputs": [
    {
     "name": "stdout",
     "output_type": "stream",
     "text": [
      "accuracy 0.7015213233352273\n",
      "log_loss 0.5652065911418699\n",
      "roc 0.7511580264024725\n",
      "f1 Score 0.4769077572544564\n",
      "precision 0.6572345278132127\n",
      "recall 0.37422961789047365\n"
     ]
    }
   ],
   "source": [
    "y_pred = xgboost_model.predict(X_test)\n",
    "\n",
    "print('accuracy', accuracy_score(y_test, [1 if a>0.5 else 0 for a in y_pred]))\n",
    "print('log_loss',log_loss(y_test, y_pred))\n",
    "print('roc',roc_auc_score(y_test, y_pred))\n",
    "print('f1 Score',f1_score(y_test, [1 if a>0.5 else 0 for a in y_pred]))\n",
    "print('precision', precision_score(y_test, [1 if a>0.5 else 0 for a in y_pred]))\n",
    "print('recall', recall_score(y_test,[1 if a>0.5 else 0 for a in y_pred]))"
   ]
  },
  {
   "cell_type": "markdown",
   "metadata": {},
   "source": [
    "# Multiclass Classification"
   ]
  },
  {
   "cell_type": "code",
   "execution_count": null,
   "metadata": {},
   "outputs": [],
   "source": []
  },
  {
   "cell_type": "code",
   "execution_count": 105,
   "metadata": {},
   "outputs": [],
   "source": [
    "y = data['success']\n",
    "X = data[data.columns.difference(['Unnamed: 0', 'id', 'name', 'short_description', 'country', 'city',\n",
    "       'state_location', 'main_category', 'category', 'created_at',\n",
    "       'launched_at', 'state_changed_at', 'deadline', 'currency', 'country.1',\n",
    "       'creator_name', 'creator_id', 'project_we_love', 'goal', 'pledged', 'achieved (%)',\n",
    "       'usd_pledged','launched_date','deadline_date', 'static_usd_rate', 'usd_type', 'success','state','Target'])]\n",
    "\n",
    "X = pd.concat([X, name_embeddings], axis = 1)\n",
    "X = pd.concat([X, description_embeddings], axis = 1)"
   ]
  },
  {
   "cell_type": "code",
   "execution_count": 107,
   "metadata": {},
   "outputs": [],
   "source": [
    "X_train, X_test, y_train, y_test = train_test_split(X, y, test_size=0.33, random_state=42)"
   ]
  },
  {
   "cell_type": "code",
   "execution_count": 108,
   "metadata": {},
   "outputs": [
    {
     "data": {
      "text/plain": [
       "XGBClassifier(alpha=10, base_score=0.5, booster='gbtree', colsample_bylevel=1,\n",
       "       colsample_bytree=0.9, gamma=0, learning_rate=0.1, max_delta_step=0,\n",
       "       max_depth=5, min_child_weight=1, missing=None, n_estimators=50,\n",
       "       n_jobs=1, nthread=None, objective='multi:softprob', random_state=0,\n",
       "       reg_alpha=0, reg_lambda=1, scale_pos_weight=1, seed=None,\n",
       "       silent=True, subsample=1)"
      ]
     },
     "execution_count": 108,
     "metadata": {},
     "output_type": "execute_result"
    }
   ],
   "source": [
    "xgb_clas = xgb.XGBClassifier(booster = 'gbtree',objective = 'multi:softmax', colsample_bytree = 0.9, learning_rate = 0.1,\n",
    "                max_depth = 5, alpha =10, n_estimators = 50)\n",
    "\n",
    "xgb_clas.fit(X_train,y_train)"
   ]
  },
  {
   "cell_type": "code",
   "execution_count": 110,
   "metadata": {},
   "outputs": [],
   "source": [
    "y_predict = xgb_clas.predict(X_test)"
   ]
  },
  {
   "cell_type": "code",
   "execution_count": 114,
   "metadata": {},
   "outputs": [
    {
     "data": {
      "image/png": "[encoded data removed]",
      "text/plain": [
       "<matplotlib.figure.Figure at 0x1bd30dcf8>"
      ]
     },
     "metadata": {
      "needs_background": "light"
     },
     "output_type": "display_data"
    }
   ],
   "source": [
    "def plot_confusion_matrix(cm, classes,\n",
    "                          normalize=False,\n",
    "                          title='Confusion matrix',\n",
    "                          cmap=plt.cm.Blues):\n",
    "    \"\"\"\n",
    "    This function prints and plots the confusion matrix.\n",
    "    Normalization can be applied by setting `normalize=True`.\n",
    "    \"\"\"\n",
    "    if normalize:\n",
    "        cm = cm.astype('float') / cm.sum(axis=1)[:, np.newaxis]\n",
    "\n",
    "    plt.imshow(cm, interpolation='nearest', cmap=cmap)\n",
    "    plt.title(title)\n",
    "    plt.colorbar()\n",
    "    tick_marks = np.arange(len(classes))\n",
    "    plt.xticks(tick_marks, classes, rotation=45)\n",
    "    plt.yticks(tick_marks, classes)\n",
    "\n",
    "    fmt = '.2f' if normalize else 'd'\n",
    "    thresh = cm.max() / 2.\n",
    "    for i, j in itertools.product(range(cm.shape[0]), range(cm.shape[1])):\n",
    "        plt.text(j, i, format(cm[i, j], fmt),\n",
    "                 horizontalalignment=\"center\",\n",
    "                 color=\"white\" if cm[i, j] > thresh else \"black\")\n",
    "\n",
    "    plt.ylabel('True label')\n",
    "    plt.xlabel('Predicted label')\n",
    "    plt.tight_layout()\n",
    "    \n",
    "class_names = ['0','1','2']\n",
    "cnf_matrix = confusion_matrix(y_test, y_predict)\n",
    "\n",
    "plot_confusion_matrix(cnf_matrix, classes=class_names, normalize=True,\n",
    "                      title='Normalized confusion matrix')\n",
    "\n",
    "plt.show()\n"
   ]
  }
 ],
 "metadata": {
  "kernelspec": {
   "display_name": "Python 3",
   "language": "python",
   "name": "python3"
  },
  "language_info": {
   "codemirror_mode": {
    "name": "ipython",
    "version": 3
   },
   "file_extension": ".py",
   "mimetype": "text/x-python",
   "name": "python",
   "nbconvert_exporter": "python",
   "pygments_lexer": "ipython3",
   "version": "3.6.2"
  }
 },
 "nbformat": 4,
 "nbformat_minor": 2
}
