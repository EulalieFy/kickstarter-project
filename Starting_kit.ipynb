{
 "cells": [
  {
   "cell_type": "markdown",
   "metadata": {},
   "source": [
    "<h1><center> DataCamp Business Case <br> Kickstarter - Predicting success of fundraising </center></h1>"
   ]
  },
  {
   "cell_type": "markdown",
   "metadata": {},
   "source": [
    "<h3>  <p style=\"text-align:left;\">Authors : <span style=\"float:right;\"> Professors:<br>  <br> Alexandre GRAMFORT <br> Balazs KEGL<br> <br> <br>\n",
    "</span></p>\n",
    "\n",
    "<br> Hamza Filali Baba <br> Eulalie Formery<br> \n",
    "\n",
    "Damien Grasset <br>  Alice Guichenez <br> Hugo Perrin</h3>\n"
   ]
  },
  {
   "cell_type": "markdown",
   "metadata": {},
   "source": [
    "\n",
    "M2 DataScience - Université ParisScalay\n",
    " \n",
    "\n",
    "***"
   ]
  },
  {
   "cell_type": "markdown",
   "metadata": {},
   "source": [
    "<img src=\"img/kickstarter-logo.png\" width=\"600\">"
   ]
  },
  {
   "cell_type": "markdown",
   "metadata": {},
   "source": [
    "## <a href=\"#1.-Business-case\" style=\"color:#00925B\">1.&nbsp;&nbsp;Business case </a>\n",
    "\n",
    "- Context\n",
    "- Business problem\n",
    "- Data presentation\n",
    "- Limits of our approach"
   ]
  },
  {
   "cell_type": "markdown",
   "metadata": {},
   "source": [
    "## <a href=\"#2.-Exploration-of-the-data\" style=\"color:#00925B\">2.&nbsp;&nbsp;Exploration of the data </a>\n",
    "\n",
    "- Descriptive statistics\n",
    "\n",
    "- Data vizualisation\n"
   ]
  },
  {
   "cell_type": "markdown",
   "metadata": {},
   "source": [
    "## <a href=\"#3.-Baseline-model\" style=\"color:#00925B\">3.&nbsp;&nbsp;Baseline model </a>\n",
    "\n",
    "- Feature extractor\n",
    "\n",
    "- Classifier"
   ]
  },
  {
   "cell_type": "markdown",
   "metadata": {},
   "source": [
    "## <a href=\"#4.-Local-testing-before-submission\" style=\"color:#00925B\">4.&nbsp;&nbsp;Local testing before submission  </a>\n"
   ]
  },
  {
   "cell_type": "markdown",
   "metadata": {},
   "source": [
    "***"
   ]
  },
  {
   "cell_type": "markdown",
   "metadata": {},
   "source": [
    "# <a id=\"#Business-case\"  style=\"color:#00925B\">1. Business case</a>\n",
    "\n",
    "##  <span style=\"color:#00925B\"> 1.1 Context  </span> \n",
    " \n",
    "Crowdfunding is the practice of funding a project or venture by raising monetary contributions from many people. Today, most of crowdfunding happens online through various websites and Kickstarter is one of the world's largest crowdfunding platforms. Kickstarter is mainly focused on creativity-related projects, in particular in art, music and design. It helps creators to find the resources and support they need to make their projects come real. Kickstarter is a huge global community; 16 million people have brought their contribution to over 150,000 successful projects all over the world. "
   ]
  },
  {
   "cell_type": "markdown",
   "metadata": {},
   "source": [
    "##  <span style=\"color:#00925B\"> 1.2 Business problem  </span> "
   ]
  },
  {
   "cell_type": "markdown",
   "metadata": {},
   "source": [
    "**Funding model**\n",
    " \n",
    "The platform is based on an all or nothing funding model: project creators choose a deadline and a minimum funding goal, and money is collected only if the project reaches its goal by the deadline. It is a kind of insurance contract. The funding goal is chosen by the project kicker at the beginning and cannot be changed once the project has been launched. Whenever a project reaches the stated goal, the platform takes a 5% fee on the total amount of money collected. When a project fails, the platform does not gain anything. Therefore, it is to the benefit of Kickstarter that most projects are successful in reaching their funding goal by the deadline. Unlike many other platforms for fundraising and investment, Kickstarter claims no ownership over the projects and the work they produce – their profit is entirely based on the 5% fee they receive in case of success."
   ]
  },
  {
   "cell_type": "markdown",
   "metadata": {},
   "source": [
    "**Finding**\n",
    "\n",
    "There is currently a 36.63% overall rate of success, with some categories performing especially well (almost 62% for dance projects) and others particularly poorly (26% only for fashion).\n",
    "\n",
    "The failure rate is 52.6% and the rest of the projects are canceled or suspended. Our goal is to increase this rate of success based on the finding that some projects are more meant to success than others. "
   ]
  },
  {
   "cell_type": "code",
   "execution_count": 1,
   "metadata": {
    "collapsed": true
   },
   "outputs": [],
   "source": [
    "import pandas as pd\n",
    "import numpy as np\n",
    "import matplotlib.pyplot as plt\n",
    "%matplotlib inline"
   ]
  },
  {
   "cell_type": "code",
   "execution_count": 2,
   "metadata": {
    "collapsed": true
   },
   "outputs": [],
   "source": [
    "data = pd.read_csv('data/full_data.csv')"
   ]
  },
  {
   "cell_type": "code",
   "execution_count": 3,
   "metadata": {},
   "outputs": [
    {
     "data": {
      "text/plain": [
       "<matplotlib.axes._subplots.AxesSubplot at 0x7f57b54aaa20>"
      ]
     },
     "execution_count": 3,
     "metadata": {},
     "output_type": "execute_result"
    },
    {
     "data": {
      "image/png": "[encoded data removed]",
      "text/plain": [
       "<Figure size 432x288 with 1 Axes>"
      ]
     },
     "metadata": {
      "needs_background": "light"
     },
     "output_type": "display_data"
    }
   ],
   "source": [
    "data.groupby('state').count()['id'].sort_values(ascending=False).plot(kind='bar')"
   ]
  },
  {
   "cell_type": "markdown",
   "metadata": {},
   "source": [
    "The chart below shows that it seems that the projects with highest goals have lower success rates."
   ]
  },
  {
   "cell_type": "code",
   "execution_count": 4,
   "metadata": {},
   "outputs": [
    {
     "data": {
      "image/png": "[encoded data removed]",
      "text/plain": [
       "<Figure size 432x288 with 1 Axes>"
      ]
     },
     "metadata": {
      "needs_background": "light"
     },
     "output_type": "display_data"
    }
   ],
   "source": [
    "u = data['goal'].unique()\n",
    "u.sort()\n",
    "\n",
    "window = 40\n",
    "intervals = [(u[int(len(u)*i/window)],u[int(len(u)*(i+1)/window)-1]) for i in range(window)]\n",
    "successes = [len(data.loc[(data.goal <= intervals[i][1]) & (data.goal > intervals[i][0])\n",
    "         & (data.state=='successful')])/len(data.loc[(data.goal <= intervals[i][1]) & (data.goal > intervals[i][0])]) \n",
    "             for i in range(window)]\n",
    "\n",
    "plt.scatter([intervals[i][1] for i in range(len(intervals))][:-1], successes[:-1])\n",
    "plt.ylabel(\"Gold\")\n",
    "plt.xlabel('Goal')\n",
    "plt.ylabel('Success rate')\n",
    "plt.show()"
   ]
  },
  {
   "cell_type": "markdown",
   "metadata": {},
   "source": [
    "Based on these findings according to which the success rate may depend on the attributes of the projects, including the category and the goal among other things, our goal is to increase the success rate by predicting which attributes will make the projects get most chances to be successful."
   ]
  },
  {
   "cell_type": "markdown",
   "metadata": {},
   "source": [
    "**Business objective**\n",
    "\n",
    "Kickstarter will make most money when most projects come to a success. Our objective is therefore to increase the chances of success of the projects by finding the relevant characteristics that will make them most likely to meet the goal by the deadline. By predicting whether a goal will be reached given a certain project, a certain funding target and a certain deadline, we should help fundraisers to pick adequate attributes and increase the rate of success, which should in turn increase Kickstarter’s profit. "
   ]
  },
  {
   "cell_type": "markdown",
   "metadata": {},
   "source": [
    "**Users of our solution**\n",
    "\n",
    "We could sell our solution to Kickstarter and imagine that they would include a kind of recommendation tool in their app, where fundraisers could input the attributes of their project and Kickstarter would provide them guidance to pick the best characteristics given the output probability of success. Project kickers would benefit from a personalized recommendation and accompaniment and Kickstarter would increase its chances to get the 5% fee."
   ]
  },
  {
   "cell_type": "markdown",
   "metadata": {},
   "source": [
    "**Prediction task**\n",
    "\n",
    "Our database is composed of projects along with a short description, their deadlines, their funding target and the actual funds raised. The goal is to predict among new projects which ones will have highest chances of being successful. It is therefore a **multiclass classification task** – failed fundraising, sucessful fundraising (the project has been fundraised in correct proportion) and overfundraising (the project has been too much funded). The result would lead to an ability to provide advice for a better design of the projects, increasing their chances of meeting the target amount by the deadline. \n"
   ]
  },
  {
   "cell_type": "markdown",
   "metadata": {},
   "source": [
    "**Benefits of a machine learning solution**\n",
    "\n",
    "A machine learning solution is particularly relevant in this context where we can exploit the huge amount of available data to help the business flourish. It makes it possible to emphasize which characteristics would be better suited for each project, it gives the possibility to Kickstarter to provide a personalized accompaniment for the design of fundraising projects and therefore increases the added value of the app by offering an additional service. All in all, it increases the fees gathered by Kickstarter by increasing the rate of success.\n"
   ]
  },
  {
   "cell_type": "markdown",
   "metadata": {},
   "source": [
    "**Business metrics**\n",
    "\n",
    "The prediction task, i.e. a multiclass classification with three differents output that are :\n",
    "- The project hasn't been funded - Failed Fundraising\n",
    "- The project has been funded (in correct proportion) - Successful Fundraising\n",
    "- The project has been too much funded - Higher Success.\n",
    "\n",
    "This is where it becomes interesting for Kickstarter to come up with a Key Performance Indicator (KPI). Indeed, more than just  having a good accuracy on the prediction, Kickstaster, as all businesses, wants to generate as much profit as it can with the output of the prediction.\n",
    "\n",
    "Let's imagine a (simple) strategy of goal recommandation from Kickstarer according to the prediction : \n",
    "- if we think the goal can be increased (i.e. predict a Higher Sucess), Kicksarter recommends an increased goal of 20%.\n",
    "- if, on the contrary, the goal is too large (Failed Fundraising), Kicksarter recommend a decreased goal of 20%.\n",
    "- if it think it will be successful, the first goal is maintained.\n",
    "\n",
    "\n",
    "As Kickstarter only receives 5% of the set goal of the project in case of sucess, which is the only revenue it will generate with its platform, one can see prediction errors in the classification as potential **shortfall** in revenue :\n",
    "\n",
    "- **(1)** if the project hasn't been 100% funded for a given goal $O_p$, but was pledged only $P_p < O_p$ but Kickstarter has predicted either a success or a higher success, it means that Kickstarter has missed a successful fundraising of $P_p$ for this project, ie :\n",
    "\n",
    "$$\\mbox{loss}_p = 5\\% \\times 20\\% \\times O_p \\mbox{ if pleged at more than }80\\%$$\n",
    "$$\\mbox{loss}_p = 0 \\mbox{ if pleged at less than }80\\%$$\n",
    "\n",
    "In practice, as we will talk about it in the data exploration part, there are only few projects that fail to be funded when they reach at least 80% - intuitively, the people in charge of teh project will try to manage to get to 100% so as not to lose all the pledged money so close to the goal. We will then use: $\\mbox{loss}_p = 0$\n",
    "\n",
    "- **(2)** if the project was predicted as a failed fundraising, the goal gets a 20% penalty. Hence, if the project was actually successful or with an higher success, it leads to a loss for Kickstarter : \n",
    "\n",
    "$$\\mbox{loss}_p = 5\\% \\times 20\\% \\times O_p \\mbox{ if success}$$\n",
    "$$\\mbox{loss}_p = 5\\% \\times 40\\% \\times O_p \\mbox{ if higher success}$$\n",
    "\n",
    "- **(3)** If the project was predicted as higher success but was in fact just successful, it means that Kickstarter will lose everything by recommending an increase in the goal :\n",
    "\n",
    "$$\\mbox{loss}_p = 5\\% \\times O_p$$\n",
    "\n",
    "- **(4)** Finally, if the project was predicted as a normal success but was in fact a higher success, Kickstarter loses potentially 20% of the additional amount Kickstarter could have claimed :\n",
    "\n",
    "$$\\mbox{loss}_p = 5\\% \\times 20\\%  \\times O_p$$\n",
    "\n",
    "\n",
    "Those 4 types of errors are directly connected with the 6 different cell errors in the confusion matrix as you can see below. Not that numbers inside cells are one of the error types listed above.\n",
    "\n",
    "<img src=\"img/confusion_matrix.png\" width=\"600\">\n",
    "\n",
    "In the end, we can easily compute a shortfall loss by summing on all the project according to the corresponding error of prediction.\n",
    "\n",
    "In practice:\n",
    "\n",
    "To build the **shortfall** metric, we decided not to take into account the value of the goal value of project. Indeed, we decided to normalize it to 1 for two reasons: \n",
    "- First of all because it would require to take into account the columns \"goal\" of the features dataset and use it inside the score function. But all score metrics in the ramp-workflow have a very specific structure that does not allow easily to put it in argument of the function. Thus, it becomes a *normalize* shortfall of the number of opportunities more than the amount of money it represents. Plus it allows to deal with issues with heterogeneous and values that are not at the same scale - which can have a big impact on the KPI.\n",
    "- Secondly, because it allows a simpler computation, as it boils down to the following loss formula:\n",
    "\n",
    "$$ \\mbox{shortfall} = 0 \\times nb_{type1} +  5\\% \\times 20\\% \\times nb_{type2, success} + 5\\% \\times 40\\% \\times nb_{type2, higher success} +  5\\%  \\times nb_{type3} + 5\\% \\times 20\\%  \\times nb_{type4}$$\n",
    "\n",
    "or simply: \n",
    "\n",
    "$$ \\mbox{shortfall} =  0.05 \\times ( 0.2 \\times (nb_{type2, success}+  nb_{type4}) + 0.4* \\times nb_{type2, higher success} +   nb_{type3}) $$"
   ]
  },
  {
   "cell_type": "markdown",
   "metadata": {},
   "source": [
    "**Data downloading**\n",
    "\n",
    "In order to download the data, one can run from the terminal : \n",
    "```\n",
    "python data_download.py \n",
    "```\n",
    "\n",
    "It will automatically download the four datasets into a './data/' folder. If you want to download as well Descriptions or Images (might be a bit long to be downloaded), you can use :\n",
    "\n",
    "```\n",
    "python data_download.py --extra images descriptions \n",
    "```"
   ]
  },
  {
   "cell_type": "markdown",
   "metadata": {},
   "source": [
    "**Evolution of our solution in time** \n",
    "\n",
    "As new projects are launched, new data becomes available and our model can be improved by benefitting from this increased availability. Furthermore, it could also learn from its past mistakes and successes by evolving as the projects turn out to be failures or successes in accordance with or contrary to the predictions. Consequently, the model will have to be retrained on a regular basis – say once every two months, and this retraining could be based on online learning methods to make it as effective as possible. This would imply additional costs but also increased performance and accuracy for a thriving business."
   ]
  },
  {
   "cell_type": "markdown",
   "metadata": {},
   "source": [
    "##  <span style=\"color:#00925B\"> 1.3 Data presentation  </span> \n",
    "\n",
    "\n",
    "To understand the story of the data collection and have all information about it, one is invited to take a look at the *data_sources* folder in the  <a href=\"https://github.com/EulalieFy/kickstarter-project/tree/master/data_sources\">GitHub repository</a>. Below are some elements of it.\n",
    "\n",
    "\n",
    "### Sources\n",
    "\n",
    "We are using data scrapped from the website 'www.kickstarter.com', made available by  webrobots (https://webrobots.io/kickstarter-datasets/) and \n",
    "hosted on a AWS S3 instance. \n",
    "\n",
    "![ScreenShot](screenshots/website.png)\n",
    "\n",
    "Hence, we're using *boto3* packages on Python so as to download it manually and store it directly on a local machine without having to store it on a cloud.\n",
    "Once the data is downloaded, we unzip the dataframe and concatenante all the cvs at our disposal into one.\n",
    "\n",
    "This gives us access to 50 datasets with approximately 4 000 projects in each. This data is pretty intersting as it gathers a lot of differents information not availalable in similar Kaggle Dataset. Indeed, we have access to lots of differents url links toward the project home page on Kickstarter for instance, or url toward the images. The idea was then to use python scapping packages to get the description of all project (to enable possible Natural Language Processing analysis for instance) as well as images (so as to do image analysis/image classification?) :\n",
    "\n",
    "### Images : \n",
    "\n",
    "In addition, we downloaded a subset of project images  from url founds in the original dataset, as well as another subset of descriptions - full text of presentation on the home page of a project - thanks to python scrapping packages. All this data is hosted on the same Google Drive as the datasets we will use here. This unstructed and multi-format data (png, txt) are not used in this starting kit but represent an interesting amount of data to use for the task.\n",
    "\n",
    "![ScreenShot2](screenshots/ex_images.png)\n",
    "\n",
    "### Descriptions :\n",
    "\n",
    "We used the *newspaper* python package in order to scrap the text from the project home page on kiskstarter.com\n",
    "\n",
    "![ScreenShot3](screenshots/ex_description.png)\n",
    "\n",
    "### Features\n",
    "\n",
    "The data was a bit messy. Indeed lots of information were hidden in string definition of dictionnary within cells of the dataframe. From this huge dataset and thanks to regex matching tools from instance, we cleaned the data, extracted and selected features we considered interesting for the tasks. This is done in the *dataframe_and_feature_processing* python file. More specifically, we will use data relative to : \n",
    "\n",
    "\n",
    "- **the project itself** : name, short_description, main_category, category\n",
    "- **important dates** : created_at, launched_at, state_changed_at, deadline\n",
    "- **the place and the currency** : country, city, state_location, static_usd_rate, currency\n",
    "- **the creator** : creator_id, creator_name\n",
    "- **objectif and Pledge funds** : goal, pledged, achieved (%), usd_pledged\n",
    "- **special treatment** : project_we_love (tag from KickStater's preferenced project)\n",
    "- **additional data** : image_available, description_available\n",
    " \n",
    "\n"
   ]
  },
  {
   "cell_type": "markdown",
   "metadata": {},
   "source": [
    "##  <span style=\"color:#00925B\"> 1.4 Limits of our approach  </span> \n",
    "\n",
    "A first limit of our approach comes from the fact that the data we got is probably not enough to explain the successful aspect of the fundraising all by itself. Further data including detailed project description and information about the project kicker (how many projects they already launched, how many of them were successful, etc) would certainly have been useful. \n",
    "Another limit is that we only know if the projects are successful in the sense that the money has been collected or not. However, this should not be the only point of focus because it does not guarantee that once the funds have been collected, the project will be properly implemented: for example, if our model recommends lowering the target amount to get higher chances to collect the money, maybe this amount will underestimate the actual requirements of the project and it will not be realizable. Our point of view was to focus on the profit aspect of the business, but the success of the project once the money has been collected might be relevant to Kickstarter’s business as well. The ideal would have been to have further data about the success of the realization of the project itself and not of the collection of the funds only."
   ]
  },
  {
   "cell_type": "markdown",
   "metadata": {},
   "source": [
    "# <a style=\"color:#00925B\">2. Exploration of the data</a>"
   ]
  },
  {
   "cell_type": "markdown",
   "metadata": {},
   "source": [
    "## <a style=\"color:#00925B\">2.1 Descriptive statistics</a>"
   ]
  },
  {
   "cell_type": "markdown",
   "metadata": {},
   "source": [
    "In our data exploration analysis, we are interested in analyzing the statistics of successful and failed projects because we would like to underline potential indicators that might differentiate successful and failed project. "
   ]
  },
  {
   "cell_type": "code",
   "execution_count": 5,
   "metadata": {},
   "outputs": [
    {
     "data": {
      "text/html": [
       "<div>\n",
       "<style scoped>\n",
       "    .dataframe tbody tr th:only-of-type {\n",
       "        vertical-align: middle;\n",
       "    }\n",
       "\n",
       "    .dataframe tbody tr th {\n",
       "        vertical-align: top;\n",
       "    }\n",
       "\n",
       "    .dataframe thead th {\n",
       "        text-align: right;\n",
       "    }\n",
       "</style>\n",
       "<table border=\"1\" class=\"dataframe\">\n",
       "  <thead>\n",
       "    <tr style=\"text-align: right;\">\n",
       "      <th></th>\n",
       "      <th>id</th>\n",
       "      <th>name</th>\n",
       "      <th>short_description</th>\n",
       "      <th>country</th>\n",
       "      <th>city</th>\n",
       "      <th>state_location</th>\n",
       "      <th>main_category</th>\n",
       "      <th>category</th>\n",
       "      <th>created_at</th>\n",
       "      <th>launched_at</th>\n",
       "      <th>...</th>\n",
       "      <th>project_we_love</th>\n",
       "      <th>image_available</th>\n",
       "      <th>description_available</th>\n",
       "      <th>goal</th>\n",
       "      <th>pledged</th>\n",
       "      <th>achieved (%)</th>\n",
       "      <th>usd_pledged</th>\n",
       "      <th>static_usd_rate</th>\n",
       "      <th>usd_type</th>\n",
       "      <th>state</th>\n",
       "    </tr>\n",
       "  </thead>\n",
       "  <tbody>\n",
       "    <tr>\n",
       "      <th>0</th>\n",
       "      <td>1555581815</td>\n",
       "      <td>Big Top Without Borders</td>\n",
       "      <td>A documentary about two circuses in remote cor...</td>\n",
       "      <td>US</td>\n",
       "      <td>Boston</td>\n",
       "      <td>MA</td>\n",
       "      <td>film &amp; video</td>\n",
       "      <td>documentary</td>\n",
       "      <td>2012-06-12 20:30:42</td>\n",
       "      <td>2012-10-19 17:30:29</td>\n",
       "      <td>...</td>\n",
       "      <td>False</td>\n",
       "      <td>True</td>\n",
       "      <td>True</td>\n",
       "      <td>25000.0</td>\n",
       "      <td>27455.55</td>\n",
       "      <td>109.8222</td>\n",
       "      <td>27455.55</td>\n",
       "      <td>1.000000</td>\n",
       "      <td>international</td>\n",
       "      <td>successful</td>\n",
       "    </tr>\n",
       "    <tr>\n",
       "      <th>1</th>\n",
       "      <td>583419300</td>\n",
       "      <td>The Story of \"Pweep\": From Egg - To Peacock</td>\n",
       "      <td>A multi-media IPad book telling the true story...</td>\n",
       "      <td>US</td>\n",
       "      <td>Orlando</td>\n",
       "      <td>FL</td>\n",
       "      <td>publishing</td>\n",
       "      <td>children's books</td>\n",
       "      <td>2012-11-03 12:10:26</td>\n",
       "      <td>2012-11-19 21:39:04</td>\n",
       "      <td>...</td>\n",
       "      <td>False</td>\n",
       "      <td>True</td>\n",
       "      <td>True</td>\n",
       "      <td>500.0</td>\n",
       "      <td>535.00</td>\n",
       "      <td>107.0000</td>\n",
       "      <td>535.00</td>\n",
       "      <td>1.000000</td>\n",
       "      <td>international</td>\n",
       "      <td>successful</td>\n",
       "    </tr>\n",
       "    <tr>\n",
       "      <th>2</th>\n",
       "      <td>1745190062</td>\n",
       "      <td>DC Radio</td>\n",
       "      <td>We are college students that get drunk and the...</td>\n",
       "      <td>CA</td>\n",
       "      <td>Toronto</td>\n",
       "      <td>ON</td>\n",
       "      <td>journalism</td>\n",
       "      <td>audio</td>\n",
       "      <td>2014-11-13 23:20:56</td>\n",
       "      <td>2014-11-18 16:20:11</td>\n",
       "      <td>...</td>\n",
       "      <td>False</td>\n",
       "      <td>True</td>\n",
       "      <td>True</td>\n",
       "      <td>3500.0</td>\n",
       "      <td>0.00</td>\n",
       "      <td>0.0000</td>\n",
       "      <td>0.00</td>\n",
       "      <td>0.886698</td>\n",
       "      <td>domestic</td>\n",
       "      <td>failed</td>\n",
       "    </tr>\n",
       "    <tr>\n",
       "      <th>3</th>\n",
       "      <td>1995203117</td>\n",
       "      <td>Ali Bangerz- two New Full Lenght Albums</td>\n",
       "      <td>its Ali bangerz,its time to stand up for other...</td>\n",
       "      <td>US</td>\n",
       "      <td>Orlando</td>\n",
       "      <td>FL</td>\n",
       "      <td>music</td>\n",
       "      <td>world music</td>\n",
       "      <td>2015-11-04 20:18:23</td>\n",
       "      <td>2015-11-04 22:22:47</td>\n",
       "      <td>...</td>\n",
       "      <td>False</td>\n",
       "      <td>True</td>\n",
       "      <td>True</td>\n",
       "      <td>20000.0</td>\n",
       "      <td>0.00</td>\n",
       "      <td>0.0000</td>\n",
       "      <td>0.00</td>\n",
       "      <td>1.000000</td>\n",
       "      <td>domestic</td>\n",
       "      <td>failed</td>\n",
       "    </tr>\n",
       "    <tr>\n",
       "      <th>4</th>\n",
       "      <td>359013399</td>\n",
       "      <td>Deja-Vu: Dissecting Memory on Camera</td>\n",
       "      <td>A young neuroscientist attempts to reconnect w...</td>\n",
       "      <td>US</td>\n",
       "      <td>Brooklyn</td>\n",
       "      <td>NY</td>\n",
       "      <td>film &amp; video</td>\n",
       "      <td>documentary</td>\n",
       "      <td>2010-09-09 05:38:56</td>\n",
       "      <td>2010-09-09 16:30:14</td>\n",
       "      <td>...</td>\n",
       "      <td>True</td>\n",
       "      <td>True</td>\n",
       "      <td>True</td>\n",
       "      <td>5000.0</td>\n",
       "      <td>6705.00</td>\n",
       "      <td>134.1000</td>\n",
       "      <td>6705.00</td>\n",
       "      <td>1.000000</td>\n",
       "      <td>international</td>\n",
       "      <td>successful</td>\n",
       "    </tr>\n",
       "  </tbody>\n",
       "</table>\n",
       "<p>5 rows × 26 columns</p>\n",
       "</div>"
      ],
      "text/plain": [
       "           id                                         name  \\\n",
       "0  1555581815                      Big Top Without Borders   \n",
       "1   583419300  The Story of \"Pweep\": From Egg - To Peacock   \n",
       "2  1745190062                                     DC Radio   \n",
       "3  1995203117      Ali Bangerz- two New Full Lenght Albums   \n",
       "4   359013399         Deja-Vu: Dissecting Memory on Camera   \n",
       "\n",
       "                                   short_description country      city  \\\n",
       "0  A documentary about two circuses in remote cor...      US    Boston   \n",
       "1  A multi-media IPad book telling the true story...      US   Orlando   \n",
       "2  We are college students that get drunk and the...      CA   Toronto   \n",
       "3  its Ali bangerz,its time to stand up for other...      US   Orlando   \n",
       "4  A young neuroscientist attempts to reconnect w...      US  Brooklyn   \n",
       "\n",
       "  state_location main_category          category           created_at  \\\n",
       "0             MA  film & video       documentary  2012-06-12 20:30:42   \n",
       "1             FL    publishing  children's books  2012-11-03 12:10:26   \n",
       "2             ON    journalism             audio  2014-11-13 23:20:56   \n",
       "3             FL         music       world music  2015-11-04 20:18:23   \n",
       "4             NY  film & video       documentary  2010-09-09 05:38:56   \n",
       "\n",
       "           launched_at     ...     project_we_love image_available  \\\n",
       "0  2012-10-19 17:30:29     ...               False            True   \n",
       "1  2012-11-19 21:39:04     ...               False            True   \n",
       "2  2014-11-18 16:20:11     ...               False            True   \n",
       "3  2015-11-04 22:22:47     ...               False            True   \n",
       "4  2010-09-09 16:30:14     ...                True            True   \n",
       "\n",
       "  description_available     goal   pledged  achieved (%)  usd_pledged  \\\n",
       "0                  True  25000.0  27455.55      109.8222     27455.55   \n",
       "1                  True    500.0    535.00      107.0000       535.00   \n",
       "2                  True   3500.0      0.00        0.0000         0.00   \n",
       "3                  True  20000.0      0.00        0.0000         0.00   \n",
       "4                  True   5000.0   6705.00      134.1000      6705.00   \n",
       "\n",
       "   static_usd_rate       usd_type       state  \n",
       "0         1.000000  international  successful  \n",
       "1         1.000000  international  successful  \n",
       "2         0.886698       domestic      failed  \n",
       "3         1.000000       domestic      failed  \n",
       "4         1.000000  international  successful  \n",
       "\n",
       "[5 rows x 26 columns]"
      ]
     },
     "execution_count": 5,
     "metadata": {},
     "output_type": "execute_result"
    }
   ],
   "source": [
    "data.drop('Unnamed: 0', inplace=True, axis=1)\n",
    "# Vizualise the head of the dataframe\n",
    "data.head(5)"
   ]
  },
  {
   "cell_type": "code",
   "execution_count": 6,
   "metadata": {},
   "outputs": [
    {
     "name": "stdout",
     "output_type": "stream",
     "text": [
      "Data shape (207227, 26)\n"
     ]
    },
    {
     "data": {
      "text/plain": [
       "id                         int64\n",
       "name                      object\n",
       "short_description         object\n",
       "country                   object\n",
       "city                      object\n",
       "state_location            object\n",
       "main_category             object\n",
       "category                  object\n",
       "created_at                object\n",
       "launched_at               object\n",
       "state_changed_at          object\n",
       "deadline                  object\n",
       "currency                  object\n",
       "creator_name              object\n",
       "creator_id                 int64\n",
       "disable_communication       bool\n",
       "project_we_love             bool\n",
       "image_available             bool\n",
       "description_available       bool\n",
       "goal                     float64\n",
       "pledged                  float64\n",
       "achieved (%)             float64\n",
       "usd_pledged              float64\n",
       "static_usd_rate          float64\n",
       "usd_type                  object\n",
       "state                     object\n",
       "dtype: object"
      ]
     },
     "execution_count": 6,
     "metadata": {},
     "output_type": "execute_result"
    }
   ],
   "source": [
    "# Shape of the data\n",
    "print(\"Data shape\", data.shape)\n",
    "\n",
    "# Column types of the data\n",
    "data.dtypes"
   ]
  },
  {
   "cell_type": "markdown",
   "metadata": {},
   "source": [
    "The data is therefore mainly composed of categorical variables, with only a few numerical variables. This is inherent to our database which must contain the names and descriptions of the projects, and we will handle some of the categorical variables with dummies variables and, when the text is relevant for prediction, we will do NLP."
   ]
  },
  {
   "cell_type": "markdown",
   "metadata": {},
   "source": [
    "The average lengths of the names and the descriptions of the projects is below."
   ]
  },
  {
   "cell_type": "code",
   "execution_count": 7,
   "metadata": {},
   "outputs": [
    {
     "name": "stdout",
     "output_type": "stream",
     "text": [
      "Average length of the names of the projets: 35.53\n",
      "Average length of the descriptions of the projects: 114.01\n"
     ]
    }
   ],
   "source": [
    "print('Average length of the names of the projets:', '%.2f'%(np.mean([len(str(name)) for name in data['name']])))\n",
    "print('Average length of the descriptions of the projects:', '%.2f'%(np.mean([len(desc) for desc in data['short_description'] if isinstance(desc, str)])))"
   ]
  },
  {
   "cell_type": "code",
   "execution_count": 8,
   "metadata": {},
   "outputs": [
    {
     "name": "stdout",
     "output_type": "stream",
     "text": [
      "The number of unique values of country is 22.\n",
      "The number of unique values of city is 12666.\n",
      "The number of unique values of category is 159.\n",
      "The number of unique values of currency is 14.\n"
     ]
    }
   ],
   "source": [
    "for col in ['country', 'city', 'category', 'currency']:\n",
    "    print('The number of unique values of ' + col + ' is ' + str(len(data[col].unique())) + '.')"
   ]
  },
  {
   "cell_type": "code",
   "execution_count": 9,
   "metadata": {},
   "outputs": [
    {
     "name": "stdout",
     "output_type": "stream",
     "text": [
      "The projects are therefore based in 22 countries and are in 14 currencies.\n"
     ]
    }
   ],
   "source": [
    "print('The projects are therefore based in '+ str(len(data['country'].unique())) + ' countries and are in ' + str(len(data['currency'].unique())) + ' currencies.')"
   ]
  },
  {
   "cell_type": "code",
   "execution_count": 10,
   "metadata": {},
   "outputs": [
    {
     "name": "stdout",
     "output_type": "stream",
     "text": [
      "The main hosting country for the projects is the US with over 78.4% of the projects.\n",
      "The most represented category is zines but it only represents 0.2% of the projects.\n"
     ]
    }
   ],
   "source": [
    "from collections import Counter\n",
    "print('The main hosting country for the projects is the ' + str(max(Counter(data['country']))) + ' with over ' + '%.1f'%(100*Counter(data['country'])[max(Counter(data['country']))]/len(data)) + '% of the projects.')\n",
    "print('The most represented category is ' + str(max(Counter(data['category'])))  + ' but it only represents ' + '%.1f'%(100*Counter(data['category'])[max(Counter(data['category']))]/len(data)) + '% of the projects.')"
   ]
  },
  {
   "cell_type": "markdown",
   "metadata": {},
   "source": [
    "The table below is an overall exploratory data analysis to help us find trends within successes and failures."
   ]
  },
  {
   "cell_type": "code",
   "execution_count": 11,
   "metadata": {
    "collapsed": true
   },
   "outputs": [],
   "source": [
    "import datetime"
   ]
  },
  {
   "cell_type": "code",
   "execution_count": 12,
   "metadata": {},
   "outputs": [
    {
     "data": {
      "text/html": [
       "<div>\n",
       "<style scoped>\n",
       "    .dataframe tbody tr th:only-of-type {\n",
       "        vertical-align: middle;\n",
       "    }\n",
       "\n",
       "    .dataframe tbody tr th {\n",
       "        vertical-align: top;\n",
       "    }\n",
       "\n",
       "    .dataframe thead th {\n",
       "        text-align: right;\n",
       "    }\n",
       "</style>\n",
       "<table border=\"1\" class=\"dataframe\">\n",
       "  <thead>\n",
       "    <tr style=\"text-align: right;\">\n",
       "      <th></th>\n",
       "      <th>Successful</th>\n",
       "      <th>Failed</th>\n",
       "      <th>Total</th>\n",
       "    </tr>\n",
       "  </thead>\n",
       "  <tbody>\n",
       "    <tr>\n",
       "      <th>Projects</th>\n",
       "      <td>116522</td>\n",
       "      <td>75205</td>\n",
       "      <td>191727</td>\n",
       "    </tr>\n",
       "    <tr>\n",
       "      <th>Proportion (%)</th>\n",
       "      <td>60.77</td>\n",
       "      <td>39.23</td>\n",
       "      <td>100.00</td>\n",
       "    </tr>\n",
       "    <tr>\n",
       "      <th>Project goal total</th>\n",
       "      <td>1229926404.30</td>\n",
       "      <td>6518175983.57</td>\n",
       "      <td>7748102387.87</td>\n",
       "    </tr>\n",
       "    <tr>\n",
       "      <th>Project goal average</th>\n",
       "      <td>10555.31</td>\n",
       "      <td>86672.11</td>\n",
       "      <td>40412.16</td>\n",
       "    </tr>\n",
       "    <tr>\n",
       "      <th>Amount pledged</th>\n",
       "      <td>2626617708.10</td>\n",
       "      <td>113286736.34</td>\n",
       "      <td>2739904444.44</td>\n",
       "    </tr>\n",
       "    <tr>\n",
       "      <th>Average pledged</th>\n",
       "      <td>22541.82</td>\n",
       "      <td>1506.37</td>\n",
       "      <td>14290.66</td>\n",
       "    </tr>\n",
       "    <tr>\n",
       "      <th>Goal vs pledged (%)</th>\n",
       "      <td>213.56</td>\n",
       "      <td>1.74</td>\n",
       "      <td>35.36</td>\n",
       "    </tr>\n",
       "    <tr>\n",
       "      <th>Average duration (days)</th>\n",
       "      <td>32.88</td>\n",
       "      <td>34.91</td>\n",
       "      <td>33.68</td>\n",
       "    </tr>\n",
       "    <tr>\n",
       "      <th>Average length of the description</th>\n",
       "      <td>115.12</td>\n",
       "      <td>113.86</td>\n",
       "      <td>114.62</td>\n",
       "    </tr>\n",
       "    <tr>\n",
       "      <th>Nb of labels project_we_love</th>\n",
       "      <td>24881</td>\n",
       "      <td>2621</td>\n",
       "      <td>27502</td>\n",
       "    </tr>\n",
       "    <tr>\n",
       "      <th>Nb of images</th>\n",
       "      <td>20630</td>\n",
       "      <td>11112</td>\n",
       "      <td>31742</td>\n",
       "    </tr>\n",
       "  </tbody>\n",
       "</table>\n",
       "</div>"
      ],
      "text/plain": [
       "                                      Successful         Failed          Total\n",
       "Projects                                  116522          75205         191727\n",
       "Proportion (%)                             60.77          39.23         100.00\n",
       "Project goal total                 1229926404.30  6518175983.57  7748102387.87\n",
       "Project goal average                    10555.31       86672.11       40412.16\n",
       "Amount pledged                     2626617708.10   113286736.34  2739904444.44\n",
       "Average pledged                         22541.82        1506.37       14290.66\n",
       "Goal vs pledged (%)                       213.56           1.74          35.36\n",
       "Average duration (days)                    32.88          34.91          33.68\n",
       "Average length of the description         115.12         113.86         114.62\n",
       "Nb of labels project_we_love               24881           2621          27502\n",
       "Nb of images                               20630          11112          31742"
      ]
     },
     "execution_count": 12,
     "metadata": {},
     "output_type": "execute_result"
    }
   ],
   "source": [
    "data['Target'] = np.where(data['pledged'] >= data['goal'], 'success', 'failure')\n",
    "data['launched_date'] = pd.to_datetime(data['launched_at'], format='%Y-%m-%d %H:%M:%S')\n",
    "data['deadline_date'] = pd.to_datetime(data['deadline'], format='%Y-%m-%d %H:%M:%S')\n",
    "data['year'] = [d.year for d in data['launched_date']]\n",
    "data['month'] = [d.month for d in data['launched_date']]\n",
    "data['duration'] = data['deadline_date'] - data['launched_date']\n",
    "data['duration'] = data['duration'] / datetime.timedelta(days=1)\n",
    "\n",
    "descriptive_df = pd.DataFrame(np.zeros((11,3)))\n",
    "descriptive_df.index = ['Projects', 'Proportion (%)', 'Project goal total', 'Project goal average', 'Amount pledged', \n",
    "                        'Average pledged', 'Goal vs pledged (%)', 'Average duration (days)',\n",
    "                        'Average length of the description', 'Nb of labels project_we_love', 'Nb of images']\n",
    "descriptive_df.columns = ['Successful', 'Failed', 'Total']\n",
    "\n",
    "sub_df = data[(data.state=='successful') | (data.state=='failed')] \n",
    "df_successful = data.loc[data['state']=='successful']\n",
    "df_failed = data.loc[data['state']=='failed']\n",
    "\n",
    "for i, df in enumerate([df_successful, df_failed, sub_df]):\n",
    "    descriptive_df.iloc[0, i] = str(len(df))\n",
    "    descriptive_df.iloc[1, i] = '%.2f'%(len(df) / len(sub_df) * 100)\n",
    "    descriptive_df.iloc[2, i] = '%.2f'%(sum(df['goal']))\n",
    "    descriptive_df.iloc[3, i] = '%.2f'%(df['goal'].mean())\n",
    "    descriptive_df.iloc[4, i] = '%.2f'%(sum(df['pledged']))\n",
    "    descriptive_df.iloc[5, i] = '%.2f'%(df['pledged'].mean())\n",
    "    descriptive_df.iloc[6, i] = '%.2f'%(sum(df['pledged'])/sum(df['goal'])*100)\n",
    "    descriptive_df.iloc[7, i] = '%.2f'%(df['duration'].mean())\n",
    "    descriptive_df.iloc[8, i] = '%.2f'%(df['short_description'].apply(lambda x: len(str(x))).mean())\n",
    "    descriptive_df.iloc[9, i] = str(sum(df['project_we_love']))\n",
    "    descriptive_df.iloc[10, i] = str(sum(df['image_available']))\n",
    "    \n",
    "descriptive_df"
   ]
  },
  {
   "cell_type": "code",
   "execution_count": 13,
   "metadata": {},
   "outputs": [
    {
     "name": "stdout",
     "output_type": "stream",
     "text": [
      "The goal of successful projects is in average 8 times lower than for failed projects.\n"
     ]
    }
   ],
   "source": [
    "print('The goal of successful projects is in average ' + str(int(df_failed['goal'].mean()/df_successful['goal'].mean())) + ' times lower than for failed projects.')"
   ]
  },
  {
   "cell_type": "markdown",
   "metadata": {},
   "source": [
    "Therefore, our databases contains more successful projects than failed projects. The goal is in average far **lower** for successful projects. The length of the description is slightly bigger for successful projects but the difference is very low. However, the number of images is far **higher**, which means that the presence of an image with the project may increase the chances of success. As for the label *project_we_love*, it certainly is of great importance in the success of projects since the number of such labels is far higher for successful projects. This label is added by Kickstarter for the projects they want to support, and its influence is obviously non neglectable - one can imagine that people who are unsure who they want to give money to would be influenced a lot by this label.\n",
    "\n",
    "The boxplot below shows that successful projects have **shorter** duration."
   ]
  },
  {
   "cell_type": "code",
   "execution_count": 14,
   "metadata": {},
   "outputs": [
    {
     "data": {
      "text/plain": [
       "<matplotlib.axes._subplots.AxesSubplot at 0x7f57b55862b0>"
      ]
     },
     "execution_count": 14,
     "metadata": {},
     "output_type": "execute_result"
    },
    {
     "data": {
      "image/png": "[encoded data removed]",
      "text/plain": [
       "<Figure size 432x288 with 1 Axes>"
      ]
     },
     "metadata": {
      "needs_background": "light"
     },
     "output_type": "display_data"
    }
   ],
   "source": [
    "data['duration'] = data['deadline_date'] - data['launched_date']\n",
    "data['duration'] = data['duration'].apply(lambda x: x.days)\n",
    "#sub_data = data.loc[(data.state=='successful') or (data.state=='failed')]\n",
    "sub_data = data[(data.state=='successful') | (data.state=='failed')] \n",
    "sub_data.groupby('state').duration.mean().sort_index().plot(kind='box')"
   ]
  },
  {
   "cell_type": "code",
   "execution_count": 15,
   "metadata": {},
   "outputs": [
    {
     "name": "stdout",
     "output_type": "stream",
     "text": [
      "Successful projects have an average duration of 32.67 days and failed projects have an average duration of 34.75 days.\n"
     ]
    }
   ],
   "source": [
    "print('Successful projects have an average duration of ' + '%.2f'%(data.groupby('state').duration.mean()['successful']) + ' days and failed projects have an average duration of ' + '%.2f'%(data.groupby('state').duration.mean()['failed'])+ ' days.')"
   ]
  },
  {
   "cell_type": "markdown",
   "metadata": {},
   "source": [
    "## <a style=\"color:#00925B\">2.2 Data vizualisation</a>"
   ]
  },
  {
   "cell_type": "code",
   "execution_count": 16,
   "metadata": {},
   "outputs": [
    {
     "data": {
      "image/png": "[encoded data removed]",
      "text/plain": [
       "<Figure size 432x288 with 1 Axes>"
      ]
     },
     "metadata": {
      "needs_background": "light"
     },
     "output_type": "display_data"
    }
   ],
   "source": [
    "plt.xlim((0,300))\n",
    "plt.hist(data['achieved (%)'], bins=1000, range=(0,10000))\n",
    "plt.show()"
   ]
  },
  {
   "cell_type": "markdown",
   "metadata": {},
   "source": [
    "The histogram above shows that there seems to be trends in the percentage of the target gathered in the end depending on the amount. We can identify three trends: one with the amounts below 100, one with the amounts between 100 and 120 because of the thresholds at 100 and 120, and one with the amounts above 120. Hence the idea of a multiclass classification with three classes of amounts - below 100, between 100 and 120, and above 120."
   ]
  },
  {
   "cell_type": "markdown",
   "metadata": {},
   "source": [
    "The chart below shows the state of the projects."
   ]
  },
  {
   "cell_type": "markdown",
   "metadata": {},
   "source": [
    "The 15 most represented categories are represented below:"
   ]
  },
  {
   "cell_type": "code",
   "execution_count": 17,
   "metadata": {},
   "outputs": [
    {
     "data": {
      "text/plain": [
       "<matplotlib.axes._subplots.AxesSubplot at 0x7f57b4226e48>"
      ]
     },
     "execution_count": 17,
     "metadata": {},
     "output_type": "execute_result"
    },
    {
     "data": {
      "image/png": "[encoded data removed]",
      "text/plain": [
       "<Figure size 432x288 with 1 Axes>"
      ]
     },
     "metadata": {
      "needs_background": "light"
     },
     "output_type": "display_data"
    }
   ],
   "source": [
    "data.groupby('category').count()['id'].sort_values(ascending=False)[:15].plot(kind='bar')"
   ]
  },
  {
   "cell_type": "markdown",
   "metadata": {},
   "source": [
    "The repartition of the projects within the years is the following:"
   ]
  },
  {
   "cell_type": "code",
   "execution_count": 18,
   "metadata": {},
   "outputs": [
    {
     "data": {
      "text/plain": [
       "<matplotlib.axes._subplots.AxesSubplot at 0x7f57b414a1d0>"
      ]
     },
     "execution_count": 18,
     "metadata": {},
     "output_type": "execute_result"
    },
    {
     "data": {
      "image/png": "[encoded data removed]",
      "text/plain": [
       "<Figure size 432x288 with 1 Axes>"
      ]
     },
     "metadata": {
      "needs_background": "light"
     },
     "output_type": "display_data"
    }
   ],
   "source": [
    "data.groupby('year').count()['id'].plot(kind='bar')"
   ]
  },
  {
   "cell_type": "markdown",
   "metadata": {},
   "source": [
    "In the histogram below, we see that the year with the highest failure ratio is 2015, while 2012 seems to have a high success ratio."
   ]
  },
  {
   "cell_type": "code",
   "execution_count": 19,
   "metadata": {},
   "outputs": [
    {
     "data": {
      "text/plain": [
       "<matplotlib.axes._subplots.AxesSubplot at 0x7f57b4113f60>"
      ]
     },
     "execution_count": 19,
     "metadata": {},
     "output_type": "execute_result"
    },
    {
     "data": {
      "image/png": "[encoded data removed]",
      "text/plain": [
       "<Figure size 432x288 with 1 Axes>"
      ]
     },
     "metadata": {
      "needs_background": "light"
     },
     "output_type": "display_data"
    }
   ],
   "source": [
    "data.groupby(['year','Target']).count()['id'].unstack().plot(kind='bar')"
   ]
  },
  {
   "cell_type": "markdown",
   "metadata": {},
   "source": [
    "The chart below shows that there is variability in the difference between goal and pledged among the categories that pledged most money. Some of them only gather a total amount just above the goal, while some others gather an amount far above the goal. "
   ]
  },
  {
   "cell_type": "code",
   "execution_count": 20,
   "metadata": {},
   "outputs": [
    {
     "data": {
      "text/plain": [
       "<matplotlib.axes._subplots.AxesSubplot at 0x7f57b40f60f0>"
      ]
     },
     "execution_count": 20,
     "metadata": {},
     "output_type": "execute_result"
    },
    {
     "data": {
      "image/png": "[encoded data removed]",
      "text/plain": [
       "<Figure size 1080x720 with 1 Axes>"
      ]
     },
     "metadata": {
      "needs_background": "light"
     },
     "output_type": "display_data"
    }
   ],
   "source": [
    "data.groupby('category')['pledged','goal'].mean().sort_values(by='pledged',ascending = False)[:15].plot(kind='bar', figsize=(15,10), title='Launched vs pledged in the categories that have pledged the more money per project')"
   ]
  },
  {
   "cell_type": "markdown",
   "metadata": {},
   "source": [
    "#  <a style=\"color:#00925B\">3. Baseline model</a>"
   ]
  },
  {
   "cell_type": "markdown",
   "metadata": {},
   "source": [
    "## <a style=\"color:#00925B\">3.1 Feature extractor</a>"
   ]
  },
  {
   "cell_type": "code",
   "execution_count": 21,
   "metadata": {
    "collapsed": true
   },
   "outputs": [],
   "source": [
    "# %load submissions/baseline/feature_extractor.py\n",
    "\n",
    "import pandas as pd\n",
    "import numpy as np\n",
    "import re\n",
    "from gensim.models import Word2Vec\n",
    "from nltk.corpus import stopwords\n",
    "import string\n",
    "\n",
    "# remove dashes and apostrophes from punctuation marks \n",
    "punct = string.punctuation.replace('-', '').replace(\"'\",'')\n",
    "# regex to match intra-word dashes and intra-word apostrophes\n",
    "my_regex = re.compile(r\"(\\b[-']\\b)|[\\W_]\")\n",
    "\n",
    "def clean_string(string, punct=punct, my_regex=my_regex, to_lower=False):\n",
    "    if to_lower:\n",
    "        string = string.lower()\n",
    "    # remove formatting\n",
    "    str = re.sub('\\s+', ' ', string)\n",
    "     # remove punctuation\n",
    "    str = ''.join(l for l in str if l not in punct)\n",
    "    # remove dashes that are not intra-word\n",
    "    str = my_regex.sub(lambda x: (x.group(1) if x.group(1) else ' '), str)\n",
    "    # strip extra white space\n",
    "    str = re.sub(' +',' ',str)\n",
    "    # strip leading and trailing white space\n",
    "    str = str.strip()\n",
    "    return str\n",
    "\n",
    "class FeatureExtractor(object):\n",
    "    def __init__(self):\n",
    "        pass\n",
    "\n",
    "    def fit(self, X, y):\n",
    "        \n",
    "        #### NLP BASICS ####\n",
    "        X['name'] = X['name'].fillna('non available')\n",
    "        X['short_description'] = X['short_description'].fillna('non available')\n",
    "        names = X['name'].tolist()\n",
    "        description = X[\"short_description\"].tolist()\n",
    "        \n",
    "        cleaned_project_names = []\n",
    "        \n",
    "        for idx, doc in enumerate(names):\n",
    "            # clean\n",
    "            doc = clean_string(doc, punct, my_regex, to_lower=True)\n",
    "            # tokenize (split based on whitespace)\n",
    "            tokens = doc.split(' ')\n",
    "            # remove digits\n",
    "            tokens = [''.join([elt for elt in token if not elt.isdigit()]) for token in tokens]\n",
    "            # remove tokens shorter than 3 characters in size\n",
    "            tokens = [token for token in tokens if len(token) > 1]\n",
    "            # remove tokens exceeding 25 characters in size\n",
    "            tokens = [token for token in tokens if len(token) <= 25]\n",
    "            cleaned_project_names.append(tokens)\n",
    "            \n",
    "        cleaned_description = []\n",
    "\n",
    "        for idx, doc in enumerate(description):\n",
    "            doc = clean_string(doc, punct, my_regex, to_lower=True)\n",
    "            tokens = doc.split(' ')\n",
    "            tokens = [''.join([elt for elt in token if not elt.isdigit()]) for token in tokens]\n",
    "            tokens = [token for token in tokens if len(token)>3]\n",
    "            tokens = [token for token in tokens if len(token)<=25]\n",
    "            cleaned_description.append(tokens)\n",
    "    \n",
    "        cleaned_total = cleaned_project_names.copy()\n",
    "\n",
    "        for a in cleaned_description:\n",
    "            cleaned_total.append(a)\n",
    "            \n",
    "        ##### Train Word2vec \n",
    "        self.model = Word2Vec(cleaned_project_names, min_count=1, size=100, workers=8)\n",
    "        \n",
    "        return self\n",
    "\n",
    "    def transform(self, X):\n",
    "        \n",
    "        data = X.copy()\n",
    "        \n",
    "        #### SIMPLE TRANSFORMATION #### \n",
    "        \n",
    "        ### Date features\n",
    "        data['launched_date'] = pd.to_datetime(data['created_at'], format='%Y-%m-%d %H:%M:%S')\n",
    "        data['deadline_date'] = pd.to_datetime(data['deadline'], format='%Y-%m-%d %H:%M:%S')\n",
    "        data['length'] = data['deadline_date'] - data['launched_date']\n",
    "        data['length'] = [d.days for d in data['length']]\n",
    "        data['year'] = [d.year for d in data['launched_date']]\n",
    "        data['month'] = [d.month for d in data['launched_date']]\n",
    "        data['day'] = [d.day for d in data['launched_date']]\n",
    "        \n",
    "        #Change NaN in name and description and reset index\n",
    "        data.short_description = data.short_description.fillna('not available')\n",
    "        data.name = data.name.fillna('not available')\n",
    "        \n",
    "        # Length of name and description\n",
    "        data['name_length'] = [len(name) for name in data['name']]\n",
    "        data['description_length'] = [len(desc) for desc in data['name']]\n",
    "        data['word_number_name'] = [len(name.split(' ')) for name in data['name']]\n",
    "        data['word_number_desc'] = [len(desc.split(' ')) for desc in data['short_description']]\n",
    "\n",
    "        # Ponctuation in name\n",
    "        data['question'] = (data.name.str[-1] == '?').astype(int)\n",
    "        data['exclamation'] = (data.name.str[-1] == '!').astype(int)\n",
    "\n",
    "        # Create dummies for categorical features\n",
    "        main_category = pd.get_dummies(data['main_category'],prefix='mc')\n",
    "        category = pd.get_dummies(data['category'], prefix = 'cat')\n",
    "        country = pd.get_dummies(data['country'], prefix = 'country')\n",
    "        currency = pd.get_dummies(data['currency'], prefix = 'currency')\n",
    "        data= pd.concat([data, main_category, category, country, currency], axis=1)\n",
    "        \n",
    "        \n",
    "        #Switch to binary features\n",
    "        data.description_available = data.description_available.astype(int)\n",
    "        data.image_available = data.image_available.astype(int)\n",
    "        data.disable_communication = data.disable_communication.astype(int)\n",
    "        \n",
    "        # Drop several features\n",
    "        names = data['name'].tolist()\n",
    "        description = data[\"short_description\"].tolist()\n",
    "    \n",
    "        features_to_drop = [ 'name', 'short_description', 'country', 'city',\n",
    "       'state_location', 'main_category', 'category', 'created_at',\n",
    "       'launched_at', 'state_changed_at', 'deadline', 'currency', \n",
    "       'creator_name', 'creator_id', 'project_we_love', 'goal',  \n",
    "       'launched_date','deadline_date', 'static_usd_rate', 'usd_type']\n",
    "        data.drop(features_to_drop, axis=1, inplace=True)\n",
    "  \n",
    "        #### NLP BASICS ####\n",
    "        cleaned_project_names = []\n",
    "      \n",
    "        for idx, doc in enumerate(names):\n",
    "            # clean\n",
    "            doc = clean_string(doc, punct, my_regex, to_lower=True)\n",
    "            # tokenize (split based on whitespace)\n",
    "            tokens = doc.split(' ')\n",
    "            # remove digits\n",
    "            tokens = [''.join([elt for elt in token if not elt.isdigit()]) for token in tokens]\n",
    "            # remove tokens shorter than 3 characters in size\n",
    "            tokens = [token for token in tokens if len(token) > 1]\n",
    "            # remove tokens exceeding 25 characters in size\n",
    "            tokens = [token for token in tokens if len(token) <= 25]\n",
    "            cleaned_project_names.append(tokens)\n",
    "            \n",
    "        cleaned_description = []\n",
    "\n",
    "        for idx, doc in enumerate(description):\n",
    "            doc = clean_string(doc, punct, my_regex, to_lower=True)\n",
    "            tokens = doc.split(' ')\n",
    "            tokens = [''.join([elt for elt in token if not elt.isdigit()]) for token in tokens]\n",
    "            tokens = [token for token in tokens if len(token)>3]\n",
    "            tokens = [token for token in tokens if len(token)<=25]\n",
    "            cleaned_description.append(tokens)\n",
    "            \n",
    "        name_matrix = np.zeros((len(cleaned_project_names), 100), dtype=\"float32\")\n",
    "\n",
    "        for i in range(len(cleaned_project_names)):\n",
    "            try:\n",
    "                name_matrix[i,]= self.model.wv[cleaned_project_names[i]].sum(0) / len(cleaned_project_names[i]) \n",
    "            except:\n",
    "                pass\n",
    "            \n",
    "        description_matrix = np.zeros((len(cleaned_description),100),dtype=\"float32\")\n",
    "       \n",
    "        for i in range(len(cleaned_description)):\n",
    "            try:\n",
    "                description_matrix[i,]=self.model.wv[cleaned_description[i]].sum(0)/len(cleaned_description[i]) \n",
    "            except:\n",
    "                pass\n",
    "       \n",
    "        name_embeddings = pd.DataFrame(name_matrix)\n",
    "        name_embeddings = name_embeddings.add_prefix('name_')\n",
    "        description_embeddings = pd.DataFrame(description_matrix)\n",
    "        description_embeddings = description_embeddings.add_prefix('desc_')\n",
    "        \n",
    "        name_embeddings.set_index(data.index, inplace=True)\n",
    "        description_embeddings.set_index(data.index, inplace=True)\n",
    "        data = pd.concat([data, name_embeddings], axis=1)\n",
    "        data = pd.concat([data, description_embeddings], axis = 1)\n",
    "        \n",
    "        return data\n"
   ]
  },
  {
   "cell_type": "markdown",
   "metadata": {},
   "source": [
    "## <a style=\"color:#00925B\">3.2 Classifier</a>"
   ]
  },
  {
   "cell_type": "code",
   "execution_count": 22,
   "metadata": {
    "collapsed": true
   },
   "outputs": [],
   "source": [
    "# %load submissions/baseline/classifier.py\n",
    "\n",
    "import xgboost as xgb\n",
    "import numpy as np\n",
    "\n",
    "from sklearn.base import BaseEstimator\n",
    "\n",
    "class Classifier(BaseEstimator):\n",
    "    \n",
    "    def __init__(self):\n",
    "        self.model = xgb.XGBClassifier(booster = 'gbtree',\n",
    "                                       objective = 'multi:softmax',\n",
    "                                       colsample_bytree = 0.9, \n",
    "                                       learning_rate = 0.1,\n",
    "                                       max_depth = 5, \n",
    "                                       alpha =10,\n",
    "                                       n_estimators = 50,\n",
    "                                       n_jobs=-1)\n",
    "\n",
    "    def fit(self, X, y):\n",
    "        self.model.fit(X, y)\n",
    "\n",
    "    def predict(self, X):\n",
    "        prediction = self.model.predict(X)\n",
    "        return prediction\n",
    "    \n",
    "    def predict_proba(self,X):\n",
    "        prediction = self.model.predict(X)\n",
    "        probas = np.zeros((X.shape[0],3))\n",
    "        for ind,c in enumerate(prediction) : \n",
    "            probas[ind,c]=1\n",
    "        return probas"
   ]
  },
  {
   "cell_type": "markdown",
   "metadata": {
    "collapsed": true
   },
   "source": [
    "#  <a style=\"color:#00925B\">4. Local testing before submission</a>\n",
    "\n",
    "\n",
    "It is important that you test your submission files before submitting them. For this we provide a unit test. Note that the test runs on your files in submissions/starting_kit, not on the classes defined in the cells of this notebook.\n",
    "\n",
    "Start install the **ramp-workflow** packages unsing \"pip install\" or directly from the GitHub repository.\n",
    "\n",
    "```\n",
    "pip install ramp-workflow\n",
    "```\n",
    "\n",
    "Then you can run \n",
    "\n",
    "```\n",
    "ramp_test_submission --submission starting_kit --ramp_data_dir=./data/\n",
    "```\n",
    "\n",
    "If it runs and print training and test errors on each fold, then you can submit the code."
   ]
  },
  {
   "cell_type": "code",
   "execution_count": 23,
   "metadata": {},
   "outputs": [
    {
     "name": "stdout",
     "output_type": "stream",
     "text": [
      "\u001b[38;5;178m\u001b[1mTesting KickStarter FundRaising  Classification\u001b[0m\n",
      "\u001b[38;5;178m\u001b[1mReading train and test files from ./data//data ...\u001b[0m\n",
      "\u001b[38;5;178m\u001b[1mReading cv ...\u001b[0m\n",
      "\u001b[38;5;178m\u001b[1mTraining ./submissions/baseline ...\u001b[0m\n",
      "\u001b[38;5;178m\u001b[1mCV fold 0\u001b[0m\n",
      "\t\u001b[38;5;178m\u001b[1mscore  recall_Failure    ...      shortfall\u001b[0m\n",
      "\t\u001b[38;5;178m\u001b[1mstep                     ...               \u001b[0m\n",
      "\t\u001b[38;5;10m\u001b[1mtrain\u001b[0m            \u001b[38;5;10m\u001b[1m0.91\u001b[0m    \u001b[38;5;150m...\u001b[0m        \u001b[38;5;150m0.17547\u001b[0m\n",
      "\t\u001b[38;5;12m\u001b[1mvalid\u001b[0m            \u001b[38;5;12m\u001b[1m0.91\u001b[0m    \u001b[38;5;105m...\u001b[0m        \u001b[38;5;105m0.17821\u001b[0m\n",
      "\t\u001b[38;5;1m\u001b[1mtest\u001b[0m             \u001b[38;5;1m\u001b[1m0.91\u001b[0m    \u001b[38;5;218m...\u001b[0m        \u001b[38;5;218m0.18059\u001b[0m\n",
      "\u001b[38;5;178m\u001b[1mCV fold 1\u001b[0m\n",
      "\t\u001b[38;5;178m\u001b[1mscore  recall_Failure    ...      shortfall\u001b[0m\n",
      "\t\u001b[38;5;178m\u001b[1mstep                     ...               \u001b[0m\n",
      "\t\u001b[38;5;10m\u001b[1mtrain\u001b[0m            \u001b[38;5;10m\u001b[1m0.91\u001b[0m    \u001b[38;5;150m...\u001b[0m        \u001b[38;5;150m0.17666\u001b[0m\n",
      "\t\u001b[38;5;12m\u001b[1mvalid\u001b[0m            \u001b[38;5;12m\u001b[1m0.91\u001b[0m    \u001b[38;5;105m...\u001b[0m        \u001b[38;5;105m0.17778\u001b[0m\n",
      "\t\u001b[38;5;1m\u001b[1mtest\u001b[0m             \u001b[38;5;1m\u001b[1m0.91\u001b[0m    \u001b[38;5;218m...\u001b[0m        \u001b[38;5;218m0.18345\u001b[0m\n",
      "\u001b[38;5;178m\u001b[1mCV fold 2\u001b[0m\n",
      "\t\u001b[38;5;178m\u001b[1mscore  recall_Failure    ...      shortfall\u001b[0m\n",
      "\t\u001b[38;5;178m\u001b[1mstep                     ...               \u001b[0m\n",
      "\t\u001b[38;5;10m\u001b[1mtrain\u001b[0m            \u001b[38;5;10m\u001b[1m0.92\u001b[0m    \u001b[38;5;150m...\u001b[0m        \u001b[38;5;150m0.17561\u001b[0m\n",
      "\t\u001b[38;5;12m\u001b[1mvalid\u001b[0m            \u001b[38;5;12m\u001b[1m0.91\u001b[0m    \u001b[38;5;105m...\u001b[0m        \u001b[38;5;105m0.18008\u001b[0m\n",
      "\t\u001b[38;5;1m\u001b[1mtest\u001b[0m             \u001b[38;5;1m\u001b[1m0.91\u001b[0m    \u001b[38;5;218m...\u001b[0m        \u001b[38;5;218m0.18216\u001b[0m\n",
      "\u001b[38;5;178m\u001b[1mCV fold 3\u001b[0m\n",
      "\t\u001b[38;5;178m\u001b[1mscore  recall_Failure    ...      shortfall\u001b[0m\n",
      "\t\u001b[38;5;178m\u001b[1mstep                     ...               \u001b[0m\n",
      "\t\u001b[38;5;10m\u001b[1mtrain\u001b[0m            \u001b[38;5;10m\u001b[1m0.91\u001b[0m    \u001b[38;5;150m...\u001b[0m        \u001b[38;5;150m0.17501\u001b[0m\n",
      "\t\u001b[38;5;12m\u001b[1mvalid\u001b[0m            \u001b[38;5;12m\u001b[1m0.91\u001b[0m    \u001b[38;5;105m...\u001b[0m        \u001b[38;5;105m0.17684\u001b[0m\n",
      "\t\u001b[38;5;1m\u001b[1mtest\u001b[0m             \u001b[38;5;1m\u001b[1m0.91\u001b[0m    \u001b[38;5;218m...\u001b[0m        \u001b[38;5;218m0.18063\u001b[0m\n",
      "\u001b[38;5;178m\u001b[1mCV fold 4\u001b[0m\n",
      "\t\u001b[38;5;178m\u001b[1mscore  recall_Failure    ...      shortfall\u001b[0m\n",
      "\t\u001b[38;5;178m\u001b[1mstep                     ...               \u001b[0m\n",
      "\t\u001b[38;5;10m\u001b[1mtrain\u001b[0m            \u001b[38;5;10m\u001b[1m0.91\u001b[0m    \u001b[38;5;150m...\u001b[0m        \u001b[38;5;150m0.17588\u001b[0m\n",
      "\t\u001b[38;5;12m\u001b[1mvalid\u001b[0m            \u001b[38;5;12m\u001b[1m0.92\u001b[0m    \u001b[38;5;105m...\u001b[0m        \u001b[38;5;105m0.17923\u001b[0m\n",
      "\t\u001b[38;5;1m\u001b[1mtest\u001b[0m             \u001b[38;5;1m\u001b[1m0.91\u001b[0m    \u001b[38;5;218m...\u001b[0m        \u001b[38;5;218m0.18081\u001b[0m\n",
      "\u001b[38;5;178m\u001b[1m----------------------------\u001b[0m\n",
      "\u001b[38;5;178m\u001b[1mMean CV scores\u001b[0m\n",
      "\u001b[38;5;178m\u001b[1m----------------------------\u001b[0m\n",
      "\t\u001b[38;5;178m\u001b[1mscore recall_Failure         ...                   shortfall\u001b[0m\n",
      "\t\u001b[38;5;178m\u001b[1mstep                         ...                            \u001b[0m\n",
      "\t\u001b[38;5;10m\u001b[1mtrain\u001b[0m   \u001b[38;5;10m\u001b[1m0.91\u001b[0m \u001b[38;5;150m\u001b[38;5;150m±\u001b[0m\u001b[0m \u001b[38;5;150m0.001\u001b[0m         \u001b[38;5;150m...\u001b[0m          \u001b[38;5;150m0.17573\u001b[0m \u001b[38;5;150m\u001b[38;5;150m±\u001b[0m\u001b[0m \u001b[38;5;150m0.000546\u001b[0m\n",
      "\t\u001b[38;5;12m\u001b[1mvalid\u001b[0m   \u001b[38;5;12m\u001b[1m0.91\u001b[0m \u001b[38;5;105m\u001b[38;5;105m±\u001b[0m\u001b[0m \u001b[38;5;105m0.005\u001b[0m         \u001b[38;5;105m...\u001b[0m          \u001b[38;5;105m0.17843\u001b[0m \u001b[38;5;105m\u001b[38;5;105m±\u001b[0m\u001b[0m \u001b[38;5;105m0.001127\u001b[0m\n",
      "\t\u001b[38;5;1m\u001b[1mtest\u001b[0m    \u001b[38;5;1m\u001b[1m0.91\u001b[0m \u001b[38;5;218m\u001b[38;5;218m±\u001b[0m\u001b[0m \u001b[38;5;218m0.002\u001b[0m         \u001b[38;5;218m...\u001b[0m          \u001b[38;5;218m0.18153\u001b[0m \u001b[38;5;218m\u001b[38;5;218m±\u001b[0m\u001b[0m \u001b[38;5;218m0.001121\u001b[0m\n",
      "\u001b[38;5;178m\u001b[1m----------------------------\u001b[0m\n",
      "\u001b[38;5;178m\u001b[1mBagged scores\u001b[0m\n",
      "\u001b[38;5;178m\u001b[1m----------------------------\u001b[0m\n",
      "\t\u001b[38;5;178m\u001b[1mscore  recall_Failure\u001b[0m\n",
      "\t\u001b[38;5;12m\u001b[1mvalid\u001b[0m            \u001b[38;5;12m\u001b[1m0.91\u001b[0m\n",
      "\t\u001b[38;5;1m\u001b[1mtest\u001b[0m             \u001b[38;5;1m\u001b[1m0.91\u001b[0m\n"
     ]
    }
   ],
   "source": [
    "!ramp_test_submission --submission baseline --ramp_data_dir=./data/"
   ]
  }
 ],
 "metadata": {
  "kernelspec": {
   "display_name": "Python 3",
   "language": "python",
   "name": "python3"
  },
  "language_info": {
   "codemirror_mode": {
    "name": "ipython",
    "version": 3
   },
   "file_extension": ".py",
   "mimetype": "text/x-python",
   "name": "python",
   "nbconvert_exporter": "python",
   "pygments_lexer": "ipython3",
   "version": "3.6.8"
  }
 },
 "nbformat": 4,
 "nbformat_minor": 2
}
